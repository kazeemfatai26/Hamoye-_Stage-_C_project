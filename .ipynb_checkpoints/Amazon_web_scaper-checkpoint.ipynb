{
 "cells": [
  {
   "cell_type": "code",
   "execution_count": null,
   "id": "aa0d8a9b",
   "metadata": {},
   "outputs": [],
   "source": [
    "Mozilla/5.0 (Windows NT 10.0; Win64; x64) AppleWebKit/537.36 (KHTML, like Gecko) Chrome/104.0.0.0 Safari/537.36"
   ]
  },
  {
   "cell_type": "code",
   "execution_count": 2,
   "id": "cc280c31",
   "metadata": {},
   "outputs": [],
   "source": [
    "#import packages and neccessary libraries\n",
    "import requests\n",
    "from urllib.request import urlopen\n",
    "from bs4 import BeautifulSoup"
   ]
  },
  {
   "cell_type": "code",
   "execution_count": 3,
   "id": "5c409937",
   "metadata": {},
   "outputs": [],
   "source": [
    "\n",
    "headers = {'User-Agent': 'Mozilla/5.0 (Windows NT 10.0; Win64; x64) AppleWebKit/537.36 (KHTML, like Gecko) Chrome/104.0.0.0 Safari/537.36',\n",
    "          'Referer': 'https://www.amazon.com/ref=nav_logo'}\n",
    "\n",
    "def getdata(url):\n",
    "    page = requests.get(url, headers = headers)\n",
    "    soup = BeautifulSoup(page.content, 'html.parser')\n",
    "    return soup"
   ]
  },
  {
   "cell_type": "code",
   "execution_count": 4,
   "id": "e982419b",
   "metadata": {},
   "outputs": [],
   "source": [
    "#this function gets the next page\n",
    "def getnextpage(soup):\n",
    "     # this will return the next page URL\n",
    "    nxt_pg = soup.find('a', {'class': 's-pagination-item s-pagination-next s-pagination-button s-pagination-separator'})\n",
    "    \n",
    "    try:\n",
    "        if not soup.find('span', {'class': 's-pagination-item s-pagination-next s-pagination-disabled '}):\n",
    "            url = 'https://www.amazon.com' + str(soup.find('a', {'class': 's-pagination-item s-pagination-next s-pagination-button s-pagination-separator'})['href'])\n",
    "\n",
    "            return url\n",
    "\n",
    "        else:\n",
    "            return\n",
    "    except:\n",
    "        print(\"An exception occured\")"
   ]
  },
  {
   "cell_type": "code",
   "execution_count": 15,
   "id": "c2c303b4",
   "metadata": {},
   "outputs": [
    {
     "data": {
      "text/plain": [
       "'https://www.amazon.com/s?k=phones&page=3&crid=SOOCTT94X2DY&qid=1662163533&sprefix=phones%2Caps%2C328&ref=sr_pg_2'"
      ]
     },
     "execution_count": 15,
     "metadata": {},
     "output_type": "execute_result"
    }
   ],
   "source": [
    "getnextpage(getdata((getnextpage(soup))))"
   ]
  },
  {
   "cell_type": "code",
   "execution_count": 6,
   "id": "40be3cc1",
   "metadata": {},
   "outputs": [],
   "source": [
    "soup = getdata(\"https://www.amazon.com/s?k=phones&crid=SOOCTT94X2DY&qid=1661851606&sprefix=phones%2Caps%2C328&ref=sr_pg_1\")"
   ]
  },
  {
   "cell_type": "code",
   "execution_count": 14,
   "id": "64aaa494",
   "metadata": {},
   "outputs": [],
   "source": [
    "fish = getdata(\"https://www.amazon.com/s?k=phones&crid=SOOCTT94X2DY&qid=1661851606&sprefix=phones%2Caps%2C328&ref=sr_pg_1\")"
   ]
  },
  {
   "cell_type": "code",
   "execution_count": null,
   "id": "5555f5ce",
   "metadata": {},
   "outputs": [],
   "source": [
    "https://www.amazon.com/s?k=phones&crid=SOOCTT94X2DY&qid=1661851606&sprefix=phones%2Caps%2C328&ref=sr_pg_1"
   ]
  },
  {
   "cell_type": "code",
   "execution_count": 19,
   "id": "97dcc2f3",
   "metadata": {},
   "outputs": [
    {
     "name": "stdout",
     "output_type": "stream",
     "text": [
      "An exception occured\n"
     ]
    }
   ],
   "source": [
    "url = 'https://www.amazon.com/s?k=phones&crid=SOOCTT94X2DY&qid=1661851606&sprefix=phones%2Caps%2C328&ref=sr_pg_1'\n",
    "lists = []\n",
    "while True:\n",
    "    data = getdata(url)\n",
    "    url = getnextpage(data)\n",
    "    if not url:\n",
    "        break\n",
    "    lists.append(url)"
   ]
  },
  {
   "cell_type": "code",
   "execution_count": 20,
   "id": "e5b01980",
   "metadata": {},
   "outputs": [
    {
     "data": {
      "text/plain": [
       "['https://www.amazon.com/s?k=phones&page=2&crid=SOOCTT94X2DY&qid=1662163823&sprefix=phones%2Caps%2C328&ref=sr_pg_1',\n",
       " 'https://www.amazon.com/s?k=phones&page=3&crid=SOOCTT94X2DY&qid=1662163824&sprefix=phones%2Caps%2C328&ref=sr_pg_2',\n",
       " 'https://www.amazon.com/s?k=phones&page=4&crid=SOOCTT94X2DY&qid=1662163826&sprefix=phones%2Caps%2C328&ref=sr_pg_3',\n",
       " 'https://www.amazon.com/s?k=phones&page=5&crid=SOOCTT94X2DY&qid=1662163828&sprefix=phones%2Caps%2C328&ref=sr_pg_4',\n",
       " 'https://www.amazon.com/s?k=phones&page=6&crid=SOOCTT94X2DY&qid=1662163829&sprefix=phones%2Caps%2C328&ref=sr_pg_5',\n",
       " 'https://www.amazon.com/s?k=phones&page=7&crid=SOOCTT94X2DY&qid=1662163831&sprefix=phones%2Caps%2C328&ref=sr_pg_6',\n",
       " 'https://www.amazon.com/s?k=phones&page=8&crid=SOOCTT94X2DY&qid=1662163833&sprefix=phones%2Caps%2C328&ref=sr_pg_7',\n",
       " 'https://www.amazon.com/s?k=phones&page=9&crid=SOOCTT94X2DY&qid=1662163835&sprefix=phones%2Caps%2C328&ref=sr_pg_8',\n",
       " 'https://www.amazon.com/s?k=phones&page=10&crid=SOOCTT94X2DY&qid=1662163837&sprefix=phones%2Caps%2C328&ref=sr_pg_9',\n",
       " 'https://www.amazon.com/s?k=phones&page=11&crid=SOOCTT94X2DY&qid=1662163839&sprefix=phones%2Caps%2C328&ref=sr_pg_10',\n",
       " 'https://www.amazon.com/s?k=phones&page=12&crid=SOOCTT94X2DY&qid=1662163841&sprefix=phones%2Caps%2C328&ref=sr_pg_11',\n",
       " 'https://www.amazon.com/s?k=phones&page=13&crid=SOOCTT94X2DY&qid=1662163843&sprefix=phones%2Caps%2C328&ref=sr_pg_12',\n",
       " 'https://www.amazon.com/s?k=phones&page=14&crid=SOOCTT94X2DY&qid=1662163844&sprefix=phones%2Caps%2C328&ref=sr_pg_13',\n",
       " 'https://www.amazon.com/s?k=phones&page=15&crid=SOOCTT94X2DY&qid=1662163846&sprefix=phones%2Caps%2C328&ref=sr_pg_14',\n",
       " 'https://www.amazon.com/s?k=phones&page=16&crid=SOOCTT94X2DY&qid=1662163848&sprefix=phones%2Caps%2C328&ref=sr_pg_15',\n",
       " 'https://www.amazon.com/s?k=phones&page=17&crid=SOOCTT94X2DY&qid=1662163850&sprefix=phones%2Caps%2C328&ref=sr_pg_16',\n",
       " 'https://www.amazon.com/s?k=phones&page=18&crid=SOOCTT94X2DY&qid=1662163852&sprefix=phones%2Caps%2C328&ref=sr_pg_17',\n",
       " 'https://www.amazon.com/s?k=phones&page=19&crid=SOOCTT94X2DY&qid=1662163854&sprefix=phones%2Caps%2C328&ref=sr_pg_18',\n",
       " 'https://www.amazon.com/s?k=phones&page=20&crid=SOOCTT94X2DY&qid=1662163856&sprefix=phones%2Caps%2C328&ref=sr_pg_19']"
      ]
     },
     "execution_count": 20,
     "metadata": {},
     "output_type": "execute_result"
    }
   ],
   "source": [
    "lists"
   ]
  },
  {
   "cell_type": "code",
   "execution_count": 12,
   "id": "f2da8a99",
   "metadata": {},
   "outputs": [
    {
     "data": {
      "text/plain": [
       "[]"
      ]
     },
     "execution_count": 12,
     "metadata": {},
     "output_type": "execute_result"
    }
   ],
   "source": [
    "lists"
   ]
  },
  {
   "cell_type": "code",
   "execution_count": null,
   "id": "295d4add",
   "metadata": {},
   "outputs": [],
   "source": [
    "for x in rating_c:\n",
    "    if not x:\n",
    "        print(x)"
   ]
  },
  {
   "cell_type": "code",
   "execution_count": null,
   "id": "f94e67be",
   "metadata": {},
   "outputs": [],
   "source": [
    "lists"
   ]
  },
  {
   "cell_type": "code",
   "execution_count": null,
   "id": "5f7f55c4",
   "metadata": {},
   "outputs": [],
   "source": [
    "lists[18]"
   ]
  },
  {
   "cell_type": "code",
   "execution_count": 25,
   "id": "db5c43d9",
   "metadata": {},
   "outputs": [],
   "source": [
    "import random\n",
    "import time\n",
    "time.sleep(random.randint(5,16)) #Script will be stopped for a period of time ranging from 5 to 16 seconds."
   ]
  },
  {
   "cell_type": "code",
   "execution_count": null,
   "id": "48c8862a",
   "metadata": {},
   "outputs": [],
   "source": [
    "File = open(\"data.csv\", \"a\", encoding = 'utf-8')\n",
    "\n",
    "names = []\n",
    "names_c = []\n",
    "\n",
    "price = []\n",
    "price_c = []\n",
    "\n",
    "price2 = []\n",
    "price2_c = []\n",
    "\n",
    "rating = []\n",
    "rating_c = []\n",
    "\n",
    "review = []\n",
    "review_c = []\n",
    "\n",
    "for url in lists:\n",
    "    meat = getdata(url)\n",
    "    names = (list(meat.find_all('span', {'class' : 'a-size-medium a-color-base a-text-normal'})))\n",
    "    price = (list(meat.find_all('span',  {'class' : \"a-price-whole\"})))\n",
    "    price2 = (list(meat.find_all('span',  {'class' : \"a-price-fraction\"})))\n",
    "    rating = (list(meat.find_all('span',  {'class' : \"a-size-base s-underline-text\"})))\n",
    "    review = (list(meat.find_all('span',  {'class' : \"a-icon-alt\"})))\n",
    "    \n",
    "    for name in names:\n",
    "        try:\n",
    "            \n",
    "            names_c.append(name.text)\n",
    "            File.write(f\"{name.text}\\t\")\n",
    "        except:\n",
    "            names_c.append(None)\n",
    "        \n",
    "    for money in price:\n",
    "        try:\n",
    "            price_c.append(money.text)\n",
    "            File.write(f\"{money.text}\\t\")\n",
    "        except:\n",
    "            price_c.append(None)\n",
    "            print(\"Jammed a null value\")\n",
    "        \n",
    "    for money2 in price2:\n",
    "        try:\n",
    "            price2_c.append(money2.text)\n",
    "            File.write(f\"{money2.text}\\t\")\n",
    "        except:\n",
    "            price2_c.append(None)\n",
    "        \n",
    "    for rat in rating:\n",
    "        try:\n",
    "            rating_c.append(rat.text)\n",
    "            File.write(f\"{rat.text}\\t\")\n",
    "            print(\"Saved the product rating\")\n",
    "        except:\n",
    "            rating_c.append(None)\n",
    "    for rev in review:\n",
    "        try:\n",
    "            review_c.append(rev.text)\n",
    "            File.write(f\"{rev.text}\\n\")\n",
    "            print(\"Saved the product review\")\n",
    "        except:\n",
    "            review_c.append(None)\n",
    "            \n",
    "\n",
    "File.close()"
   ]
  },
  {
   "cell_type": "code",
   "execution_count": null,
   "id": "b4b3504e",
   "metadata": {},
   "outputs": [],
   "source": [
    "Scraped_data = pd.DataFrame({'ProductName': names_c, 'ProductPrice': price_c, 'ProductPriceFrac': price2_c, 'NumberOfRatings': rating_c, \n",
    "             'Reviews': review_c})"
   ]
  },
  {
   "cell_type": "code",
   "execution_count": null,
   "id": "f4f3753e",
   "metadata": {},
   "outputs": [],
   "source": [
    "len(review_c)"
   ]
  },
  {
   "cell_type": "code",
   "execution_count": null,
   "id": "39d3d08e",
   "metadata": {},
   "outputs": [],
   "source": [
    "def checkIfDuplicates_1(listOfElems):\n",
    "    ''' Check if given list contains any duplicates '''\n",
    "    if len(listOfElems) == len(set(listOfElems)):\n",
    "        return False\n",
    "    else:\n",
    "        return True"
   ]
  },
  {
   "cell_type": "code",
   "execution_count": null,
   "id": "563797c0",
   "metadata": {},
   "outputs": [],
   "source": [
    "result = checkIfDuplicates_1(every_l)\n",
    "if result:\n",
    "    print('Yes, list contains duplicates')\n",
    "else:\n",
    "    print('No duplicates found in list')    "
   ]
  },
  {
   "cell_type": "code",
   "execution_count": null,
   "id": "c5f3be51",
   "metadata": {},
   "outputs": [],
   "source": [
    "for elem in names_c:\n",
    "    num = names_c.count(elem)\n",
    "        "
   ]
  },
  {
   "cell_type": "code",
   "execution_count": null,
   "id": "dc761b21",
   "metadata": {},
   "outputs": [],
   "source": [
    "num"
   ]
  },
  {
   "cell_type": "code",
   "execution_count": null,
   "id": "3b5651ee",
   "metadata": {},
   "outputs": [],
   "source": [
    "try:\n",
    "    title = fish.find('span', class_ = \"a-size-medium a-color-base a-text-normal\")\n",
    "    # Inner NavigableString Object\n",
    "    title_value = title.string\n",
    "    \n",
    "    # Title as a string value\n",
    "    title_string = title_value.strip().replace(',', '')\n",
    "except AttributeError:\n",
    "    title_string = \"NA\"\n",
    "    print(\"product Title = \", title_string)"
   ]
  },
  {
   "cell_type": "code",
   "execution_count": null,
   "id": "4900450d",
   "metadata": {},
   "outputs": [],
   "source": [
    "len(na)"
   ]
  },
  {
   "cell_type": "code",
   "execution_count": null,
   "id": "fbe96170",
   "metadata": {},
   "outputs": [],
   "source": [
    "na[8]"
   ]
  },
  {
   "cell_type": "code",
   "execution_count": null,
   "id": "326d049c",
   "metadata": {
    "scrolled": false
   },
   "outputs": [],
   "source": [
    "nameP = []\n",
    "for i in range(1, 9):\n",
    "    nameP.append(na[i].text)"
   ]
  },
  {
   "cell_type": "code",
   "execution_count": null,
   "id": "bc2de015",
   "metadata": {},
   "outputs": [],
   "source": [
    "na"
   ]
  },
  {
   "cell_type": "code",
   "execution_count": null,
   "id": "457f1ae5",
   "metadata": {},
   "outputs": [],
   "source": [
    "nameP"
   ]
  },
  {
   "cell_type": "code",
   "execution_count": null,
   "id": "80d17c11",
   "metadata": {
    "scrolled": true
   },
   "outputs": [],
   "source": [
    "print(None)"
   ]
  },
  {
   "cell_type": "code",
   "execution_count": null,
   "id": "87c8099d",
   "metadata": {},
   "outputs": [],
   "source": [
    "lists[18]"
   ]
  },
  {
   "cell_type": "code",
   "execution_count": 33,
   "id": "6dbb2ce7",
   "metadata": {},
   "outputs": [],
   "source": [
    "ProductName = []\n",
    "amt_w = []\n",
    "amt_f = []\n",
    "rating_c = []\n",
    "review_c = []"
   ]
  },
  {
   "cell_type": "code",
   "execution_count": 113,
   "id": "5ba9ed6d",
   "metadata": {},
   "outputs": [],
   "source": [
    "def main(URL):\n",
    "    # opening our output file in append mode\n",
    "    #File = open(\"fresh.csv\", \"a\", encoding = 'utf-8')\n",
    " \n",
    "     # specifying user agent, You can use other user agents\n",
    "#     # available on the internet\n",
    "#     headers = {'User-Agent': 'Mozilla/5.0 (Windows NT 10.0; Win64; x64) AppleWebKit/537.36 (KHTML, like Gecko) Chrome/104.0.0.0 Safari/537.36',\n",
    "#           'Referer': 'https://www.amazon.com/ref=nav_logo'}\n",
    "\n",
    "#     # Making the HTTP Request\n",
    "#     webpage = requests.get(URL, headers=headers)\n",
    "    soup = getdata(URL)\n",
    "    # Creating the Soup Object containing all data\n",
    "    #soup = BeautifulSoup(webpage.content, 'html.parser')\n",
    " \n",
    "    # retrieving product title\n",
    "    try:\n",
    "        # Outer Tag Object\n",
    "        title = soup.find_all('span', class_ = \"a-size-medium a-color-base a-text-normal\")\n",
    " \n",
    "        for content in title:\n",
    "            ProductName.append(content.string.strip().replace(',', ''))\n",
    "        \n",
    "    except IndexError:\n",
    "        ProductName.append(None)\n",
    "    print('pass1')\n",
    " \n",
    "    # saving the title in the file\n",
    "    #File.write(f\"{title_string},\")\n",
    "    # retrieving price\n",
    "    try:\n",
    "        price = soup.find_all('span',  class_ = \"a-price-whole\")\n",
    "        save = []\n",
    "        for fish in soup.find_all('span',  class_ = \"a-price-whole\"):\n",
    "            save.append(fish.text)\n",
    "        for content in price:\n",
    "            amt_w.append(content.text)\n",
    "        # we are omitting unnecessary spaces\n",
    "        # and commas form our string\n",
    "    except IndexError:\n",
    "        save.append(None)\n",
    "    print(\"Pass2\")\n",
    " \n",
    "    # saving\n",
    "    #File.write(f\"{price},\")\n",
    "    \n",
    "    #finding fractional price\n",
    "    try:\n",
    "        price2 = soup.find_all('span',  class_ = \"a-price-fraction\")\n",
    "        safe = []\n",
    "        for fish in soup.find_all('span',  class_ = \"a-price-fraction\"):\n",
    "            safe.append(fish.text)\n",
    "        for content in price2:\n",
    "            amt_f.append(content.text)\n",
    "          \n",
    "        # we are omitting unnecessary spaces\n",
    "        # and commas form our string\n",
    "    except IndexError:\n",
    "        safe.append(None)\n",
    "    print(\"pass3\")\n",
    " \n",
    "    # saving\n",
    "    #File.write(f\"{price2},\")\n",
    "    \n",
    "#     # retrieving product rating\n",
    "#     try:\n",
    "#         rating = soup.find_all('span', class_ = \"a-size-base s-underline-text\")\n",
    "#         for content in rating:\n",
    "#             rating_c.append(content.text)\n",
    "          \n",
    "#     except:\n",
    "#         rating_c.append(None)\n",
    "#     print(\"pass4\")\n",
    " \n",
    "#     #File.write(f\"{rating},\")\n",
    " \n",
    "#     try:\n",
    "#         review = soup.find_all(\"span\", attrs={'class': 'a-icon-alt'})\n",
    "#         for content in review:\n",
    "#             review_c.append(content.string.strip().replace(',', ''))\n",
    "          \n",
    "#     except AttributeError:\n",
    "#         review_c.append(None)\n",
    "#     print('Pass5')\n",
    "    \n",
    "          #File.write(f\"{review},\\n\")\n",
    " \n",
    "    # closing the file\n",
    "    #File.close()\n",
    "    \n",
    "    df.append({'ProductName':ProductName,'Real_amt':save,'fract_am':safe}, ignore_index=True)\n",
    " \n"
   ]
  },
  {
   "cell_type": "code",
   "execution_count": 40,
   "id": "6016c435",
   "metadata": {},
   "outputs": [],
   "source": [
    "import pandas as pd"
   ]
  },
  {
   "cell_type": "code",
   "execution_count": 78,
   "id": "b1c394c6",
   "metadata": {
    "scrolled": true
   },
   "outputs": [],
   "source": [
    "df = pd.DataFrame(columns=['ProductName','Real_amt','fract_am'])"
   ]
  },
  {
   "cell_type": "code",
   "execution_count": 102,
   "id": "afdfd29b",
   "metadata": {},
   "outputs": [
    {
     "data": {
      "text/plain": [
       "22"
      ]
     },
     "execution_count": 102,
     "metadata": {},
     "output_type": "execute_result"
    }
   ],
   "source": [
    "len(soup.find_all('span', class_ = \"a-size-medium a-color-base a-text-normal\"))"
   ]
  },
  {
   "cell_type": "code",
   "execution_count": 114,
   "id": "7fb93ecf",
   "metadata": {
    "scrolled": false
   },
   "outputs": [
    {
     "name": "stdout",
     "output_type": "stream",
     "text": [
      "pass1\n",
      "Pass2\n",
      "pass3\n"
     ]
    },
    {
     "name": "stderr",
     "output_type": "stream",
     "text": [
      "C:\\Users\\fatkayd\\AppData\\Local\\Temp\\ipykernel_19804\\30793751.py:91: FutureWarning: The frame.append method is deprecated and will be removed from pandas in a future version. Use pandas.concat instead.\n",
      "  df.append({'ProductName':ProductName,'Real_amt':save,'fract_am':safe}, ignore_index=True)\n"
     ]
    }
   ],
   "source": [
    "main('https://www.amazon.com/s?k=phones&crid=SOOCTT94X2DY&qid=1661851606&sprefix=phones%2Caps%2C328&ref=sr_pg_1')"
   ]
  },
  {
   "cell_type": "code",
   "execution_count": 119,
   "id": "e1aef656",
   "metadata": {},
   "outputs": [
    {
     "data": {
      "text/plain": [
       "['SAMSUNG Galaxy S21 FE 5G Cell Phone Factory Unlocked Android Smartphone 128GB 120Hz Display Screen Pro Grade Camera All Day Intelligent Battery US Version Olive',\n",
       " 'SAMSUNG Galaxy S22 Ultra Cell Phone Factory Unlocked Android Smartphone 128GB 8K Camera & Video Brightest Display Screen S Pen Long Battery Life Fast 4nm Processor US Version Phantom Black',\n",
       " 'SAMSUNG Galaxy S20 FE 5G Cell Phone Factory Unlocked Android Smartphone 128GB Pro Grade Camera 30X Space Zoom Night Mode US Version Cloud Lavender',\n",
       " 'Apple iPhone 11 64GB White - Fully Unlocked (Renewed)',\n",
       " 'Apple iPhone XR US Version 64GB Red - Unlocked (Renewed)',\n",
       " 'SAMSUNG Galaxy A53 5G A Series Cell Phone Factory Unlocked Android Smartphone 128GB 6.5” FHD Super AMOLED Screen Long Battery Life US Version Black',\n",
       " 'Samsung Galaxy S10 128GB Prism White - Unlocked (Renewed)',\n",
       " 'Apple iPhone 11 Pro US Version 256GB Gold - Unlocked (Renewed)',\n",
       " 'SAMSUNG Galaxy S22 Cell Phone Factory Unlocked Android Smartphone 128GB 8K Camera & Video Night Mode Brightest Display Screen 50MP Photo Resolution Long Battery Life US Version Phantom Black',\n",
       " 'SAMSUNG Galaxy Z Flip 3 5G Cell Phone Factory Unlocked Android Smartphone 256GB Flex Mode Super Steady Camera Ultra Compact US Version Phantom Black',\n",
       " 'Samsung Galaxy A52 | A525F | 128GB 6GB RAM | Factory Unlocked (GSM ONLY | Not Compatible with Verizon/Sprint/Boost) | International Model (Awesome Purple)',\n",
       " 'SAMSUNG Galaxy Z Fold 4 Cell Phone Factory Unlocked Android Smartphone 256GB Flex Mode Hands Free Video Multi Window View Foldable Display S Pen Compatible US Version Phantom Black',\n",
       " 'Moto G Power | 2021 | 3-Day battery | Unlocked | Made for US by Motorola | 3/32GB | 48MP Camera | Silver',\n",
       " 'AT&T BL102-2 DECT 6.0 2-Handset Cordless Phone for Home with Answering Machine Call Blocking Caller ID Announcer Audio Assist Intercom and Unsurpassed Range Silver/Black',\n",
       " 'Ulefone Note 6 (2022) GSM 3G Unlocked Smartphone Triple Card Slots 6.1\" Waterdrop Incell Full- Screen Dual SIM Unlocked Cell Phones AI Camera 5MP+2MP 3300mAh Face Unlock Android 11 - Purple',\n",
       " 'SAMSUNG Galaxy S21 Ultra 5G Factory Unlocked Android Cell Phone 128GB US Version Smartphone Pro-Grade Camera 8K Video 108MP High Res Phantom Silver',\n",
       " 'xiwxi iPhone SE Case 2022/3rd/2020iPhone 8/7 Casewith [2xTempered Glass Screen Protector] [360 Full Body Shockproof] [Heavy Dropproof]Hard PC+Soft Silicone TPU+Glass Screen Phone Case-Black',\n",
       " 'Tracfone Motorola moto g Pure (2021) 32GB Blue - Prepaid Smartphone (Locked)',\n",
       " 'AT&T DECT 6.0 Expandable Cordless Phone with Answering System Silver/Black with 3 Handsets',\n",
       " 'TCL 30 SE |2022| Unlocked Cell Phone 128GB ROM + 4GB RAM 6.52\" Android Phone GSM Unlocked Smartphone with 50MP Camera 5000mAh US Version Atlantic Blue (Not Compatible with Verizon/Boost/Sprint)',\n",
       " 'ANTSHARE\\xa0for\\xa0iPhone\\xa014\\xa0Plus\\xa0CaseiPhone\\xa014\\xa0Max\\xa0Casewith\\xa02P\\xa09H\\xa0Tempered\\xa0Glass\\xa0Screen\\xa0Protector[Mil-Grade\\xa0Drop\\xa0Tested]\\xa0[Scratch-Resistant]\\xa0Clear\\xa0Hard\\xa0Back\\xa0Soft\\xa0Bumper\\xa0for\\xa0iPhone\\xa014\\xa0Plus\\xa06.7\\xa0’’ Blue',\n",
       " 'TCL 10L Unlocked Android Smartphone 256GB+6GB RAM Android Phone6.53\" FHD Cell Phone 48MP Quad Rear Camera System 4000mAh Verizon Phone Mobile Phone Large Storage Arctic White',\n",
       " 'SAMSUNG Galaxy S21 FE 5G Cell Phone Factory Unlocked Android Smartphone 128GB 120Hz Display Screen Pro Grade Camera All Day Intelligent Battery US Version Olive',\n",
       " 'SAMSUNG Galaxy S22 Ultra Cell Phone Factory Unlocked Android Smartphone 128GB 8K Camera & Video Brightest Display Screen S Pen Long Battery Life Fast 4nm Processor US Version Phantom Black',\n",
       " 'Apple iPhone 11 64GB White - Fully Unlocked (Renewed)',\n",
       " 'SAMSUNG Galaxy S20 FE 5G Cell Phone Factory Unlocked Android Smartphone 128GB Pro Grade Camera 30X Space Zoom Night Mode US Version Cloud Lavender',\n",
       " 'SAMSUNG Galaxy Z Flip 3 5G Cell Phone Factory Unlocked Android Smartphone 256GB Flex Mode Super Steady Camera Ultra Compact US Version Phantom Black',\n",
       " 'SAMSUNG Galaxy A53 5G A Series Cell Phone Factory Unlocked Android Smartphone 128GB 6.5” FHD Super AMOLED Screen Long Battery Life US Version Black',\n",
       " 'Samsung Galaxy A52 | A525F | 128GB 6GB RAM | Factory Unlocked (GSM ONLY | Not Compatible with Verizon/Sprint/Boost) | International Model (Awesome Purple)',\n",
       " 'SAMSUNG Galaxy S21 Ultra 5G Factory Unlocked Android Cell Phone 128GB US Version Smartphone Pro-Grade Camera 8K Video 108MP High Res Phantom Silver',\n",
       " 'TCL 10L Unlocked Android Smartphone 256GB+6GB RAM Android Phone6.53\" FHD Cell Phone 48MP Quad Rear Camera System 4000mAh Verizon Phone Mobile Phone Large Storage Arctic White',\n",
       " 'AT&T BL102-2 DECT 6.0 2-Handset Cordless Phone for Home with Answering Machine Call Blocking Caller ID Announcer Audio Assist Intercom and Unsurpassed Range Silver/Black',\n",
       " 'SAMSUNG Galaxy S22 Ultra Cell Phone Factory Unlocked Android Smartphone 128GB 8K Camera & Video Brightest Display Screen S Pen Long Battery Life Fast 4nm Processor US Version Phantom White',\n",
       " 'SAMSUNG Galaxy Z Fold 4 Cell Phone Factory Unlocked Android Smartphone 256GB Flex Mode Hands Free Video Multi Window View Foldable Display S Pen Compatible US Version Phantom Black',\n",
       " 'Moto G Power | 2021 | 3-Day battery | Unlocked | Made for US by Motorola | 3/32GB | 48MP Camera | Silver',\n",
       " 'AT&T DECT 6.0 Expandable Cordless Phone with Answering System Silver/Black with 3 Handsets',\n",
       " 'Samsung Galaxy S10 128GB Prism White - Unlocked (Renewed)',\n",
       " 'Apple iPhone 11 Pro US Version 256GB Gold - Unlocked (Renewed)',\n",
       " 'Visible One Month Prepaid Service & SIM Card | Visible Unlimited Data Plan',\n",
       " 'Apple iPhone XR US Version 64GB Red - Unlocked (Renewed)',\n",
       " 'Motorola edge | Unlocked | Made for US by Motorola | 6GB + 256GB | 64MP Camera | 2020 | Solar Black',\n",
       " 'LG Velvet 5G (128GB 6GB RAM) 6.8\" OLED Snapdragon 765 48MP 4K Camera US 5G/4G LTE AT&T Unlocked (Cricket Latin/NOT for T-Mobile) LM-G900UM (64GB SD Bundle Aurora Silver)',\n",
       " 'Visible+ One Month Prepaid Service & SIM Card | Unlimited 5G Ultra Wideband Data Plan with International Calling',\n",
       " 'Fitpolo Smart Watches for Women Men Smart Watch for Android Phones and iOS Phones IP68 Swimming Waterproof Fitness Watch Pedometer Fitness Tracker Heart Rate Monitor',\n",
       " 'SAMSUNG Galaxy S21 FE 5G Cell Phone Factory Unlocked Android Smartphone 128GB 120Hz Display Screen Pro Grade Camera All Day Intelligent Battery US Version Olive',\n",
       " 'SAMSUNG Galaxy S22 Ultra Cell Phone Factory Unlocked Android Smartphone 128GB 8K Camera & Video Brightest Display Screen S Pen Long Battery Life Fast 4nm Processor US Version Phantom Black',\n",
       " 'Apple iPhone 11 64GB White - Fully Unlocked (Renewed)',\n",
       " 'SAMSUNG Galaxy S20 FE 5G Cell Phone Factory Unlocked Android Smartphone 128GB Pro Grade Camera 30X Space Zoom Night Mode US Version Cloud Lavender',\n",
       " 'Samsung Galaxy A52 | A525F | 128GB 6GB RAM | Factory Unlocked (GSM ONLY | Not Compatible with Verizon/Sprint/Boost) | International Model (Awesome Purple)',\n",
       " 'SAMSUNG Galaxy Z Flip 3 5G Cell Phone Factory Unlocked Android Smartphone 256GB Flex Mode Super Steady Camera Ultra Compact US Version Phantom Black',\n",
       " 'SAMSUNG Galaxy A53 5G A Series Cell Phone Factory Unlocked Android Smartphone 128GB 6.5” FHD Super AMOLED Screen Long Battery Life US Version Black',\n",
       " 'SAMSUNG Galaxy S21 Ultra 5G Factory Unlocked Android Cell Phone 128GB US Version Smartphone Pro-Grade Camera 8K Video 108MP High Res Phantom Silver',\n",
       " 'TCL 10L Unlocked Android Smartphone 256GB+6GB RAM Android Phone6.53\" FHD Cell Phone 48MP Quad Rear Camera System 4000mAh Verizon Phone Mobile Phone Large Storage Arctic White',\n",
       " 'AT&T BL102-2 DECT 6.0 2-Handset Cordless Phone for Home with Answering Machine Call Blocking Caller ID Announcer Audio Assist Intercom and Unsurpassed Range Silver/Black',\n",
       " 'SAMSUNG Galaxy S22 Ultra Cell Phone Factory Unlocked Android Smartphone 128GB 8K Camera & Video Brightest Display Screen S Pen Long Battery Life Fast 4nm Processor US Version Phantom White',\n",
       " 'SAMSUNG Galaxy Z Fold 4 Cell Phone Factory Unlocked Android Smartphone 256GB Flex Mode Hands Free Video Multi Window View Foldable Display S Pen Compatible US Version Phantom Black',\n",
       " 'Moto G Power | 2021 | 3-Day battery | Unlocked | Made for US by Motorola | 3/32GB | 48MP Camera | Silver',\n",
       " 'AT&T DECT 6.0 Expandable Cordless Phone with Answering System Silver/Black with 3 Handsets',\n",
       " 'Samsung Galaxy S10 128GB Prism White - Unlocked (Renewed)',\n",
       " 'Apple iPhone 11 Pro US Version 256GB Gold - Unlocked (Renewed)',\n",
       " 'Visible One Month Prepaid Service & SIM Card | Visible Unlimited Data Plan',\n",
       " 'Apple iPhone XR US Version 64GB Red - Unlocked (Renewed)',\n",
       " 'Motorola edge | Unlocked | Made for US by Motorola | 6GB + 256GB | 64MP Camera | 2020 | Solar Black',\n",
       " 'LG Velvet 5G (128GB 6GB RAM) 6.8\" OLED Snapdragon 765 48MP 4K Camera US 5G/4G LTE AT&T Unlocked (Cricket Latin/NOT for T-Mobile) LM-G900UM (64GB SD Bundle Aurora Silver)',\n",
       " 'Visible+ One Month Prepaid Service & SIM Card | Unlimited 5G Ultra Wideband Data Plan with International Calling',\n",
       " 'Fitpolo Smart Watches for Women Men Smart Watch for Android Phones and iOS Phones IP68 Swimming Waterproof Fitness Watch Pedometer Fitness Tracker Heart Rate Monitor',\n",
       " 'SAMSUNG Galaxy S21 FE 5G Cell Phone Factory Unlocked Android Smartphone 128GB 120Hz Display Screen Pro Grade Camera All Day Intelligent Battery US Version Olive',\n",
       " 'SAMSUNG Galaxy S22 Ultra Cell Phone Factory Unlocked Android Smartphone 128GB 8K Camera & Video Brightest Display Screen S Pen Long Battery Life Fast 4nm Processor US Version Phantom Black',\n",
       " 'SAMSUNG Galaxy S20 FE 5G Cell Phone Factory Unlocked Android Smartphone 128GB Pro Grade Camera 30X Space Zoom Night Mode US Version Cloud Lavender',\n",
       " 'Apple iPhone 11 64GB White - Fully Unlocked (Renewed)',\n",
       " 'Apple iPhone XR US Version 64GB Red - Unlocked (Renewed)',\n",
       " 'SAMSUNG Galaxy A53 5G A Series Cell Phone Factory Unlocked Android Smartphone 128GB 6.5” FHD Super AMOLED Screen Long Battery Life US Version Black',\n",
       " 'Samsung Galaxy S10 128GB Prism White - Unlocked (Renewed)',\n",
       " 'Apple iPhone 11 Pro US Version 256GB Gold - Unlocked (Renewed)',\n",
       " 'SAMSUNG Galaxy S22 Cell Phone Factory Unlocked Android Smartphone 128GB 8K Camera & Video Night Mode Brightest Display Screen 50MP Photo Resolution Long Battery Life US Version Phantom Black',\n",
       " 'SAMSUNG Galaxy Z Flip 3 5G Cell Phone Factory Unlocked Android Smartphone 256GB Flex Mode Super Steady Camera Ultra Compact US Version Phantom Black',\n",
       " 'Samsung Galaxy A52 | A525F | 128GB 6GB RAM | Factory Unlocked (GSM ONLY | Not Compatible with Verizon/Sprint/Boost) | International Model (Awesome Purple)',\n",
       " 'SAMSUNG Galaxy Z Fold 4 Cell Phone Factory Unlocked Android Smartphone 256GB Flex Mode Hands Free Video Multi Window View Foldable Display S Pen Compatible US Version Phantom Black',\n",
       " 'Moto G Power | 2021 | 3-Day battery | Unlocked | Made for US by Motorola | 3/32GB | 48MP Camera | Silver',\n",
       " 'AT&T BL102-2 DECT 6.0 2-Handset Cordless Phone for Home with Answering Machine Call Blocking Caller ID Announcer Audio Assist Intercom and Unsurpassed Range Silver/Black',\n",
       " 'Ulefone Note 6 (2022) GSM 3G Unlocked Smartphone Triple Card Slots 6.1\" Waterdrop Incell Full- Screen Dual SIM Unlocked Cell Phones AI Camera 5MP+2MP 3300mAh Face Unlock Android 11 - Purple',\n",
       " 'SAMSUNG Galaxy S21 Ultra 5G Factory Unlocked Android Cell Phone 128GB US Version Smartphone Pro-Grade Camera 8K Video 108MP High Res Phantom Silver',\n",
       " 'Visible One Month Prepaid Service & SIM Card | Visible Unlimited Data Plan',\n",
       " 'Tracfone Motorola moto g Pure (2021) 32GB Blue - Prepaid Smartphone (Locked)',\n",
       " 'AT&T DECT 6.0 Expandable Cordless Phone with Answering System Silver/Black with 3 Handsets',\n",
       " 'AT&T CL83507 DECT 6.0 5-Handset Cordless Phone for Home with Dual Keypad Base Answering Machine Call Blocking Caller ID Announcer Intercom and Long Range Silver/Black',\n",
       " 'Visible+ One Month Prepaid Service & SIM Card | Unlimited 5G Ultra Wideband Data Plan with International Calling',\n",
       " 'TCL 10L Unlocked Android Smartphone 256GB+6GB RAM Android Phone6.53\" FHD Cell Phone 48MP Quad Rear Camera System 4000mAh Verizon Phone Mobile Phone Large Storage Arctic White',\n",
       " 'SAMSUNG Galaxy S21 FE 5G Cell Phone Factory Unlocked Android Smartphone 128GB 120Hz Display Screen Pro Grade Camera All Day Intelligent Battery US Version Olive',\n",
       " 'SAMSUNG Galaxy S22 Ultra Cell Phone Factory Unlocked Android Smartphone 128GB 8K Camera & Video Brightest Display Screen S Pen Long Battery Life Fast 4nm Processor US Version Phantom Black',\n",
       " 'AT&T BL102-2 DECT 6.0 2-Handset Cordless Phone for Home with Answering Machine Call Blocking Caller ID Announcer Audio Assist Intercom and Unsurpassed Range Silver/Black',\n",
       " 'SAMSUNG Galaxy A53 5G A Series Cell Phone Factory Unlocked Android Smartphone 128GB 6.5” FHD Super AMOLED Screen Long Battery Life US Version Black',\n",
       " 'SAMSUNG Galaxy S20 FE 5G Cell Phone Factory Unlocked Android Smartphone 128GB Pro Grade Camera 30X Space Zoom Night Mode US Version Cloud Lavender',\n",
       " 'Samsung Galaxy S10 128GB Prism White - Unlocked (Renewed)',\n",
       " 'Apple iPhone XR US Version 64GB Red - Unlocked (Renewed)',\n",
       " 'Apple iPhone 11 64GB White - Fully Unlocked (Renewed)',\n",
       " 'AT&T DECT 6.0 Expandable Cordless Phone with Answering System Silver/Black with 3 Handsets',\n",
       " 'SAMSUNG Galaxy Z Flip 3 5G Cell Phone Factory Unlocked Android Smartphone 256GB Flex Mode Super Steady Camera Ultra Compact US Version Phantom Black',\n",
       " 'SAMSUNG Galaxy S22 Cell Phone Factory Unlocked Android Smartphone 128GB 8K Camera & Video Night Mode Brightest Display Screen 50MP Photo Resolution Long Battery Life US Version Phantom Black',\n",
       " 'SAMSUNG Galaxy Z Fold 4 Cell Phone Factory Unlocked Android Smartphone 256GB Flex Mode Hands Free Video Multi Window View Foldable Display S Pen Compatible US Version Phantom Black',\n",
       " 'Apple iPhone 11 Pro US Version 256GB Gold - Unlocked (Renewed)',\n",
       " 'Moto G Power | 2021 | 3-Day battery | Unlocked | Made for US by Motorola | 3/32GB | 48MP Camera | Silver',\n",
       " 'Samsung Galaxy A52 | A525F | 128GB 6GB RAM | Factory Unlocked (GSM ONLY | Not Compatible with Verizon/Sprint/Boost) | International Model (Awesome Purple)',\n",
       " 'Ulefone Note 6 (2022) GSM 3G Unlocked Smartphone Triple Card Slots 6.1\" Waterdrop Incell Full- Screen Dual SIM Unlocked Cell Phones AI Camera 5MP+2MP 3300mAh Face Unlock Android 11 - Purple',\n",
       " 'xiwxi iPhone SE Case 2022/3rd/2020iPhone 8/7 Casewith [2xTempered Glass Screen Protector] [360 Full Body Shockproof] [Heavy Dropproof]Hard PC+Soft Silicone TPU+Glass Screen Phone Case-Black',\n",
       " 'TCL 10L Unlocked Android Smartphone 256GB+6GB RAM Android Phone6.53\" FHD Cell Phone 48MP Quad Rear Camera System 4000mAh Verizon Phone Mobile Phone Large Storage Arctic White',\n",
       " 'Tracfone Motorola moto g Pure (2021) 32GB Blue - Prepaid Smartphone (Locked)',\n",
       " 'AT&T CL83507 DECT 6.0 5-Handset Cordless Phone for Home with Dual Keypad Base Answering Machine Call Blocking Caller ID Announcer Intercom and Long Range Silver/Black',\n",
       " 'ANTSHARE\\xa0for\\xa0iPhone\\xa014\\xa0Plus\\xa0CaseiPhone\\xa014\\xa0Max\\xa0Casewith\\xa02P\\xa09H\\xa0Tempered\\xa0Glass\\xa0Screen\\xa0Protector[Mil-Grade\\xa0Drop\\xa0Tested]\\xa0[Scratch-Resistant]\\xa0Clear\\xa0Hard\\xa0Back\\xa0Soft\\xa0Bumper\\xa0for\\xa0iPhone\\xa014\\xa0Plus\\xa06.7\\xa0’’ Blue',\n",
       " 'RCA Reno Smartphone 4G LTE 16GB Android 11 Black - GSM Unlocked',\n",
       " 'SAMSUNG Galaxy S21 FE 5G Cell Phone Factory Unlocked Android Smartphone 128GB 120Hz Display Screen Pro Grade Camera All Day Intelligent Battery US Version Olive',\n",
       " 'SAMSUNG Galaxy S22 Ultra Cell Phone Factory Unlocked Android Smartphone 128GB 8K Camera & Video Brightest Display Screen S Pen Long Battery Life Fast 4nm Processor US Version Phantom Black',\n",
       " 'AT&T BL102-2 DECT 6.0 2-Handset Cordless Phone for Home with Answering Machine Call Blocking Caller ID Announcer Audio Assist Intercom and Unsurpassed Range Silver/Black',\n",
       " 'SAMSUNG Galaxy A53 5G A Series Cell Phone Factory Unlocked Android Smartphone 128GB 6.5” FHD Super AMOLED Screen Long Battery Life US Version Black',\n",
       " 'SAMSUNG Galaxy S20 FE 5G Cell Phone Factory Unlocked Android Smartphone 128GB Pro Grade Camera 30X Space Zoom Night Mode US Version Cloud Lavender',\n",
       " 'Samsung Galaxy S10 128GB Prism White - Unlocked (Renewed)',\n",
       " 'Apple iPhone XR US Version 64GB Red - Unlocked (Renewed)',\n",
       " 'Apple iPhone 11 64GB White - Fully Unlocked (Renewed)',\n",
       " 'AT&T DECT 6.0 Expandable Cordless Phone with Answering System Silver/Black with 3 Handsets',\n",
       " 'SAMSUNG Galaxy Z Flip 3 5G Cell Phone Factory Unlocked Android Smartphone 256GB Flex Mode Super Steady Camera Ultra Compact US Version Phantom Black',\n",
       " 'SAMSUNG Galaxy S22 Cell Phone Factory Unlocked Android Smartphone 128GB 8K Camera & Video Night Mode Brightest Display Screen 50MP Photo Resolution Long Battery Life US Version Phantom Black',\n",
       " 'SAMSUNG Galaxy Z Fold 4 Cell Phone Factory Unlocked Android Smartphone 256GB Flex Mode Hands Free Video Multi Window View Foldable Display S Pen Compatible US Version Phantom Black',\n",
       " 'Apple iPhone 11 Pro US Version 256GB Gold - Unlocked (Renewed)',\n",
       " 'Moto G Power | 2021 | 3-Day battery | Unlocked | Made for US by Motorola | 3/32GB | 48MP Camera | Silver',\n",
       " 'Samsung Galaxy A52 | A525F | 128GB 6GB RAM | Factory Unlocked (GSM ONLY | Not Compatible with Verizon/Sprint/Boost) | International Model (Awesome Purple)',\n",
       " 'TCL 10L Unlocked Android Smartphone 256GB+6GB RAM Android Phone6.53\" FHD Cell Phone 48MP Quad Rear Camera System 4000mAh Verizon Phone Mobile Phone Large Storage Arctic White',\n",
       " 'Visible One Month Prepaid Service & SIM Card | Visible Unlimited Data Plan',\n",
       " 'Ulefone Note 6 (2022) GSM 3G Unlocked Smartphone Triple Card Slots 6.1\" Waterdrop Incell Full- Screen Dual SIM Unlocked Cell Phones AI Camera 5MP+2MP 3300mAh Face Unlock Android 11 - Purple',\n",
       " 'Tracfone Motorola moto g Pure (2021) 32GB Blue - Prepaid Smartphone (Locked)',\n",
       " 'AT&T CL83507 DECT 6.0 5-Handset Cordless Phone for Home with Dual Keypad Base Answering Machine Call Blocking Caller ID Announcer Intercom and Long Range Silver/Black',\n",
       " 'Visible+ One Month Prepaid Service & SIM Card | Unlimited 5G Ultra Wideband Data Plan with International Calling',\n",
       " 'xiwxi iPhone SE Case 2022/3rd/2020iPhone 8/7 Casewith [2xTempered Glass Screen Protector] [360 Full Body Shockproof] [Heavy Dropproof]Hard PC+Soft Silicone TPU+Glass Screen Phone Case-Black',\n",
       " 'SAMSUNG Galaxy S21 FE 5G Cell Phone Factory Unlocked Android Smartphone 128GB 120Hz Display Screen Pro Grade Camera All Day Intelligent Battery US Version Olive',\n",
       " 'SAMSUNG Galaxy S22 Ultra Cell Phone Factory Unlocked Android Smartphone 128GB 8K Camera & Video Brightest Display Screen S Pen Long Battery Life Fast 4nm Processor US Version Phantom Black',\n",
       " 'Apple iPhone 11 64GB White - Fully Unlocked (Renewed)',\n",
       " 'SAMSUNG Galaxy A53 5G A Series Cell Phone Factory Unlocked Android Smartphone 128GB 6.5” FHD Super AMOLED Screen Long Battery Life US Version Black',\n",
       " 'SAMSUNG Galaxy S21 Ultra 5G Factory Unlocked Android Cell Phone 128GB US Version Smartphone Pro-Grade Camera 8K Video 108MP High Res Phantom Silver',\n",
       " 'SAMSUNG Galaxy S20 FE 5G Cell Phone Factory Unlocked Android Smartphone 128GB Pro Grade Camera 30X Space Zoom Night Mode US Version Cloud Lavender',\n",
       " 'Moto G Power | 2021 | 3-Day battery | Unlocked | Made for US by Motorola | 3/32GB | 48MP Camera | Silver',\n",
       " 'Samsung Galaxy S10 128GB Prism White - Unlocked (Renewed)',\n",
       " 'SAMSUNG Galaxy Z Flip 3 5G Cell Phone Factory Unlocked Android Smartphone 256GB Flex Mode Super Steady Camera Ultra Compact US Version Phantom Black',\n",
       " 'Google Pixel 6 Pro - 5G Android Phone - Unlocked Smartphone with Advanced Pixel Camera and Telephoto Lens - 128GB - Cloudy White',\n",
       " 'SAMSUNG Galaxy S22 Cell Phone Factory Unlocked Android Smartphone 128GB 8K Camera & Video Night Mode Brightest Display Screen 50MP Photo Resolution Long Battery Life US Version Phantom Black',\n",
       " 'SAMSUNG Galaxy Z Fold 4 Cell Phone Factory Unlocked Android Smartphone 256GB Flex Mode Hands Free Video Multi Window View Foldable Display S Pen Compatible US Version Phantom Black',\n",
       " 'Samsung Galaxy A52 | A525F | 128GB 6GB RAM | Factory Unlocked (GSM ONLY | Not Compatible with Verizon/Sprint/Boost) | International Model (Awesome Purple)',\n",
       " 'Apple iPhone XR US Version 64GB Red - Unlocked (Renewed)',\n",
       " 'TCL 10L Unlocked Android Smartphone 256GB+6GB RAM Android Phone6.53\" FHD Cell Phone 48MP Quad Rear Camera System 4000mAh Verizon Phone Mobile Phone Large Storage Arctic White',\n",
       " 'Samsung Galaxy S9 G960U 64GB - Unlocked Purple (Renewed)',\n",
       " 'DEENAKIN iPhone 12 CaseiPhone 12 Pro Case with Screen ProtectorSoft Liquid Silicone Gel Rubber Bumper CoverSlim Fit Shockproof Protective Phone Case for iPhone 12 Pro 6.1\" Elegant Brown',\n",
       " 'Apple iPhone 11 Pro US Version 256GB Gold - Unlocked (Renewed)',\n",
       " 'AT&T BL102-2 DECT 6.0 2-Handset Cordless Phone for Home with Answering Machine Call Blocking Caller ID Announcer Audio Assist Intercom and Unsurpassed Range Silver/Black',\n",
       " 'LG Velvet 5G (128GB 6GB RAM) 6.8\" OLED Snapdragon 765 48MP 4K Camera US 5G/4G LTE AT&T Unlocked (Cricket Latin/NOT for T-Mobile) LM-G900UM (64GB SD Bundle Aurora Silver)',\n",
       " 'Fitpolo Smart Watches for Women Men Smart Watch for Android Phones and iOS Phones IP68 Swimming Waterproof Fitness Watch Pedometer Fitness Tracker Heart Rate Monitor',\n",
       " 'xiwxi iPhone SE Case 2022/3rd/2020iPhone 8/7 Casewith [2xTempered Glass Screen Protector] [360 Full Body Shockproof] [Heavy Dropproof]Hard PC+Soft Silicone TPU+Glass Screen Phone Case-Black',\n",
       " 'SAMSUNG Galaxy S21 FE 5G Cell Phone Factory Unlocked Android Smartphone 128GB 120Hz Display Screen Pro Grade Camera All Day Intelligent Battery US Version Olive',\n",
       " 'SAMSUNG Galaxy S22 Ultra Cell Phone Factory Unlocked Android Smartphone 128GB 8K Camera & Video Brightest Display Screen S Pen Long Battery Life Fast 4nm Processor US Version Phantom Black',\n",
       " 'Apple iPhone 11 64GB White - Fully Unlocked (Renewed)',\n",
       " 'SAMSUNG Galaxy A53 5G A Series Cell Phone Factory Unlocked Android Smartphone 128GB 6.5” FHD Super AMOLED Screen Long Battery Life US Version Black',\n",
       " 'SAMSUNG Galaxy S21 Ultra 5G Factory Unlocked Android Cell Phone 128GB US Version Smartphone Pro-Grade Camera 8K Video 108MP High Res Phantom Silver',\n",
       " 'SAMSUNG Galaxy S20 FE 5G Cell Phone Factory Unlocked Android Smartphone 128GB Pro Grade Camera 30X Space Zoom Night Mode US Version Cloud Lavender',\n",
       " 'Moto G Power | 2021 | 3-Day battery | Unlocked | Made for US by Motorola | 3/32GB | 48MP Camera | Silver',\n",
       " 'Samsung Galaxy S10 128GB Prism White - Unlocked (Renewed)',\n",
       " 'SAMSUNG Galaxy Z Flip 3 5G Cell Phone Factory Unlocked Android Smartphone 256GB Flex Mode Super Steady Camera Ultra Compact US Version Phantom Black',\n",
       " 'Google Pixel 6 Pro - 5G Android Phone - Unlocked Smartphone with Advanced Pixel Camera and Telephoto Lens - 128GB - Cloudy White',\n",
       " 'SAMSUNG Galaxy S22 Cell Phone Factory Unlocked Android Smartphone 128GB 8K Camera & Video Night Mode Brightest Display Screen 50MP Photo Resolution Long Battery Life US Version Phantom Black',\n",
       " 'SAMSUNG Galaxy Z Fold 4 Cell Phone Factory Unlocked Android Smartphone 256GB Flex Mode Hands Free Video Multi Window View Foldable Display S Pen Compatible US Version Phantom Black',\n",
       " 'Samsung Galaxy A52 | A525F | 128GB 6GB RAM | Factory Unlocked (GSM ONLY | Not Compatible with Verizon/Sprint/Boost) | International Model (Awesome Purple)',\n",
       " 'Apple iPhone XR US Version 64GB Red - Unlocked (Renewed)',\n",
       " 'TCL 10L Unlocked Android Smartphone 256GB+6GB RAM Android Phone6.53\" FHD Cell Phone 48MP Quad Rear Camera System 4000mAh Verizon Phone Mobile Phone Large Storage Arctic White',\n",
       " 'Samsung Galaxy S9 G960U 64GB - Unlocked Purple (Renewed)',\n",
       " 'DEENAKIN iPhone 12 CaseiPhone 12 Pro Case with Screen ProtectorSoft Liquid Silicone Gel Rubber Bumper CoverSlim Fit Shockproof Protective Phone Case for iPhone 12 Pro 6.1\" Elegant Brown',\n",
       " 'Apple iPhone 11 Pro US Version 256GB Gold - Unlocked (Renewed)',\n",
       " 'AT&T BL102-2 DECT 6.0 2-Handset Cordless Phone for Home with Answering Machine Call Blocking Caller ID Announcer Audio Assist Intercom and Unsurpassed Range Silver/Black',\n",
       " 'LG Velvet 5G (128GB 6GB RAM) 6.8\" OLED Snapdragon 765 48MP 4K Camera US 5G/4G LTE AT&T Unlocked (Cricket Latin/NOT for T-Mobile) LM-G900UM (64GB SD Bundle Aurora Silver)',\n",
       " 'Fitpolo Smart Watches for Women Men Smart Watch for Android Phones and iOS Phones IP68 Swimming Waterproof Fitness Watch Pedometer Fitness Tracker Heart Rate Monitor',\n",
       " 'PANASONIC Bluetooth Corded / Cordless Phone System with Answering Machine Enhanced Noise Reduction and One-Touch Call Block - 2 Handsets - KX-TGF382M (Metallic Black)',\n",
       " 'SAMSUNG Galaxy S21 FE 5G Cell Phone Factory Unlocked Android Smartphone 128GB 120Hz Display Screen Pro Grade Camera All Day Intelligent Battery US Version Olive',\n",
       " 'SAMSUNG Galaxy S22 Ultra Cell Phone Factory Unlocked Android Smartphone 128GB 8K Camera & Video Brightest Display Screen S Pen Long Battery Life Fast 4nm Processor US Version Phantom Black',\n",
       " 'Apple iPhone 11 64GB White - Fully Unlocked (Renewed)',\n",
       " 'SAMSUNG Galaxy A53 5G A Series Cell Phone Factory Unlocked Android Smartphone 128GB 6.5” FHD Super AMOLED Screen Long Battery Life US Version Black',\n",
       " 'Apple iPhone XR US Version 64GB Red - Unlocked (Renewed)',\n",
       " 'Samsung Galaxy S10 128GB Prism White - Unlocked (Renewed)',\n",
       " 'SAMSUNG Galaxy S20 FE 5G Cell Phone Factory Unlocked Android Smartphone 128GB Pro Grade Camera 30X Space Zoom Night Mode US Version Cloud Lavender',\n",
       " 'Apple iPhone 11 Pro US Version 256GB Gold - Unlocked (Renewed)',\n",
       " 'SAMSUNG Galaxy S22 Cell Phone Factory Unlocked Android Smartphone 128GB 8K Camera & Video Night Mode Brightest Display Screen 50MP Photo Resolution Long Battery Life US Version Phantom Black',\n",
       " 'Samsung Galaxy S9 G960U 64GB - Unlocked Purple (Renewed)',\n",
       " 'Moto G Power | 2021 | 3-Day battery | Unlocked | Made for US by Motorola | 3/32GB | 48MP Camera | Silver',\n",
       " 'SAMSUNG Galaxy Z Fold 4 Cell Phone Factory Unlocked Android Smartphone 256GB Flex Mode Hands Free Video Multi Window View Foldable Display S Pen Compatible US Version Phantom Black',\n",
       " 'SAMSUNG Galaxy Z Flip 3 5G Cell Phone Factory Unlocked Android Smartphone 256GB Flex Mode Super Steady Camera Ultra Compact US Version Phantom Black',\n",
       " 'AT&T BL102-3 DECT 6.0 3-Handset Cordless Phone for Home with Answering Machine Call Blocking Caller ID Announcer Audio Assist Intercom and Unsurpassed Range Silver/Black',\n",
       " 'SAMSUNG Galaxy S21 Ultra 5G Factory Unlocked Android Cell Phone 128GB US Version Smartphone Pro-Grade Camera 8K Video 108MP High Res Phantom Silver',\n",
       " 'LG Velvet 5G (128GB 6GB RAM) 6.8\" OLED Snapdragon 765 48MP 4K Camera US 5G/4G LTE AT&T Unlocked (Cricket Latin/NOT for T-Mobile) LM-G900UM (64GB SD Bundle Aurora Silver)',\n",
       " 'DEENAKIN iPhone 12 CaseiPhone 12 Pro Case with Screen ProtectorSoft Liquid Silicone Gel Rubber Bumper CoverSlim Fit Shockproof Protective Phone Case for iPhone 12 Pro 6.1\" Elegant Brown',\n",
       " 'Samsung Galaxy A52 | A525F | 128GB 6GB RAM | Factory Unlocked (GSM ONLY | Not Compatible with Verizon/Sprint/Boost) | International Model (Awesome Purple)',\n",
       " 'Samsung Galaxy A12 (SM-A125F/DS) Dual SIM128 GB Factory Unlocked GSM International Version - No Warranty - Black (Renewed)',\n",
       " 'Tracfone Alcatel TCL A3 32GB Black - Prepaid Smartphone (Locked)',\n",
       " 'Fitpolo Smart Watches for Women Men Smart Watch for Android Phones and iOS Phones IP68 Swimming Waterproof Fitness Watch Pedometer Fitness Tracker Heart Rate Monitor',\n",
       " 'xiwxi iPhone SE Case 2022/3rd/2020iPhone 8/7 Casewith [2xTempered Glass Screen Protector] [360 Full Body Shockproof] [Heavy Dropproof]Hard PC+Soft Silicone TPU+Glass Screen Phone Case-Black',\n",
       " 'SAMSUNG Galaxy S21 FE 5G Cell Phone Factory Unlocked Android Smartphone 128GB 120Hz Display Screen Pro Grade Camera All Day Intelligent Battery US Version Olive',\n",
       " 'SAMSUNG Galaxy S22 Ultra Cell Phone Factory Unlocked Android Smartphone 128GB 8K Camera & Video Brightest Display Screen S Pen Long Battery Life Fast 4nm Processor US Version Phantom Black',\n",
       " 'Apple iPhone 11 64GB White - Fully Unlocked (Renewed)',\n",
       " 'SAMSUNG Galaxy A53 5G A Series Cell Phone Factory Unlocked Android Smartphone 128GB 6.5” FHD Super AMOLED Screen Long Battery Life US Version Black',\n",
       " 'Apple iPhone XR US Version 64GB Red - Unlocked (Renewed)',\n",
       " 'Google Fi SIM Card Kit',\n",
       " 'Samsung Galaxy S10 128GB Prism White - Unlocked (Renewed)',\n",
       " 'SAMSUNG Galaxy S20 FE 5G Cell Phone Factory Unlocked Android Smartphone 128GB Pro Grade Camera 30X Space Zoom Night Mode US Version Cloud Lavender',\n",
       " 'Apple iPhone 11 Pro US Version 256GB Gold - Unlocked (Renewed)',\n",
       " 'SAMSUNG Galaxy S22 Cell Phone Factory Unlocked Android Smartphone 128GB 8K Camera & Video Night Mode Brightest Display Screen 50MP Photo Resolution Long Battery Life US Version Phantom Black',\n",
       " 'Samsung Galaxy S9 G960U 64GB - Unlocked Purple (Renewed)',\n",
       " 'Moto G Power | 2021 | 3-Day battery | Unlocked | Made for US by Motorola | 3/32GB | 48MP Camera | Silver',\n",
       " 'SAMSUNG Galaxy Z Fold 4 Cell Phone Factory Unlocked Android Smartphone 256GB Flex Mode Hands Free Video Multi Window View Foldable Display S Pen Compatible US Version Phantom Black',\n",
       " 'SAMSUNG Galaxy Z Flip 3 5G Cell Phone Factory Unlocked Android Smartphone 256GB Flex Mode Super Steady Camera Ultra Compact US Version Phantom Black',\n",
       " 'AT&T BL102-3 DECT 6.0 3-Handset Cordless Phone for Home with Answering Machine Call Blocking Caller ID Announcer Audio Assist Intercom and Unsurpassed Range Silver/Black',\n",
       " 'SAMSUNG Galaxy S21 Ultra 5G Factory Unlocked Android Cell Phone 128GB US Version Smartphone Pro-Grade Camera 8K Video 108MP High Res Phantom Silver',\n",
       " 'LG Velvet 5G (128GB 6GB RAM) 6.8\" OLED Snapdragon 765 48MP 4K Camera US 5G/4G LTE AT&T Unlocked (Cricket Latin/NOT for T-Mobile) LM-G900UM (64GB SD Bundle Aurora Silver)',\n",
       " 'DEENAKIN iPhone 12 CaseiPhone 12 Pro Case with Screen ProtectorSoft Liquid Silicone Gel Rubber Bumper CoverSlim Fit Shockproof Protective Phone Case for iPhone 12 Pro 6.1\" Elegant Brown',\n",
       " 'Samsung Galaxy A52 | A525F | 128GB 6GB RAM | Factory Unlocked (GSM ONLY | Not Compatible with Verizon/Sprint/Boost) | International Model (Awesome Purple)',\n",
       " 'Samsung Galaxy A12 (SM-A125F/DS) Dual SIM128 GB Factory Unlocked GSM International Version - No Warranty - Black (Renewed)',\n",
       " 'Tracfone Alcatel TCL A3 32GB Black - Prepaid Smartphone (Locked)',\n",
       " 'Fitpolo Smart Watches for Women Men Smart Watch for Android Phones and iOS Phones IP68 Swimming Waterproof Fitness Watch Pedometer Fitness Tracker Heart Rate Monitor',\n",
       " 'xiwxi iPhone SE Case 2022/3rd/2020iPhone 8/7 Casewith [2xTempered Glass Screen Protector] [360 Full Body Shockproof] [Heavy Dropproof]Hard PC+Soft Silicone TPU+Glass Screen Phone Case-Black']"
      ]
     },
     "execution_count": 119,
     "metadata": {},
     "output_type": "execute_result"
    }
   ],
   "source": [
    "ProductName"
   ]
  },
  {
   "cell_type": "code",
   "execution_count": 97,
   "id": "2620cad4",
   "metadata": {
    "scrolled": true
   },
   "outputs": [
    {
     "data": {
      "text/plain": [
       "37"
      ]
     },
     "execution_count": 97,
     "metadata": {},
     "output_type": "execute_result"
    }
   ],
   "source": [
    "len(amt_w)"
   ]
  },
  {
   "cell_type": "code",
   "execution_count": 120,
   "id": "95d1994a",
   "metadata": {},
   "outputs": [],
   "source": [
    "from requests_html import HTMLSession\n",
    "import csv\n",
    "\n",
    "\n",
    "def job_data_get(s, url: str) -> tuple:\n",
    "    # return the elements for each job card\n",
    "    r = s.get(url)\n",
    "    return r.html.find('ul.pagination-list a[aria-label=Next]'), r.html.find('div.job_seen_beacon')\n",
    "\n",
    "\n",
    "def parse_html(job) -> dict:\n",
    "    job_dict = {'title': job.find('h2 > a')[0].text,\n",
    "                'link': 'https://uk.indeed.com/viewjob?jk=' + job.find('h2 > a')[0].attrs['data-jk'],\n",
    "                'companyname': job.find('span.companyName')[0].text,\n",
    "                'snippet': job.find('div.job-snippet')[0].text.replace('\\n', '').strip()}\n",
    "\n",
    "    try:\n",
    "        job_dict['salary'] = job.find('div.metadata.salary-snippet-container')[0].text\n",
    "    except IndexError as err:\n",
    "        job_dict['salary'] = 'no salary info'\n",
    "\n",
    "    return job_dict\n",
    "\n",
    "\n",
    "def export(results):\n",
    "    keys = results[0].keys()\n",
    "    with open('results.csv', 'w') as f:\n",
    "        dict_writer = csv.DictWriter(f, keys)\n",
    "        dict_writer.writeheader()\n",
    "        dict_writer.writerows(results)\n",
    "\n",
    "\n"
   ]
  },
  {
   "cell_type": "code",
   "execution_count": null,
   "id": "3f98818a",
   "metadata": {},
   "outputs": [],
   "source": []
  },
  {
   "cell_type": "code",
   "execution_count": 121,
   "id": "ef96bd80",
   "metadata": {},
   "outputs": [
    {
     "name": "stdout",
     "output_type": "stream",
     "text": [
      "list index out of range\n"
     ]
    },
    {
     "ename": "IndexError",
     "evalue": "list index out of range",
     "output_type": "error",
     "traceback": [
      "\u001b[1;31m---------------------------------------------------------------------------\u001b[0m",
      "\u001b[1;31mIndexError\u001b[0m                                Traceback (most recent call last)",
      "Input \u001b[1;32mIn [121]\u001b[0m, in \u001b[0;36m<cell line: 21>\u001b[1;34m()\u001b[0m\n\u001b[0;32m     18\u001b[0m     export(results)\n\u001b[0;32m     21\u001b[0m \u001b[38;5;28;01mif\u001b[39;00m \u001b[38;5;18m__name__\u001b[39m \u001b[38;5;241m==\u001b[39m \u001b[38;5;124m'\u001b[39m\u001b[38;5;124m__main__\u001b[39m\u001b[38;5;124m'\u001b[39m:\n\u001b[1;32m---> 22\u001b[0m     \u001b[43mmain\u001b[49m\u001b[43m(\u001b[49m\u001b[43m)\u001b[49m\n",
      "Input \u001b[1;32mIn [121]\u001b[0m, in \u001b[0;36mmain\u001b[1;34m()\u001b[0m\n\u001b[0;32m     16\u001b[0m         \u001b[38;5;28mprint\u001b[39m(err)\n\u001b[0;32m     17\u001b[0m         \u001b[38;5;28;01mbreak\u001b[39;00m\n\u001b[1;32m---> 18\u001b[0m \u001b[43mexport\u001b[49m\u001b[43m(\u001b[49m\u001b[43mresults\u001b[49m\u001b[43m)\u001b[49m\n",
      "Input \u001b[1;32mIn [120]\u001b[0m, in \u001b[0;36mexport\u001b[1;34m(results)\u001b[0m\n\u001b[0;32m     25\u001b[0m \u001b[38;5;28;01mdef\u001b[39;00m \u001b[38;5;21mexport\u001b[39m(results):\n\u001b[1;32m---> 26\u001b[0m     keys \u001b[38;5;241m=\u001b[39m \u001b[43mresults\u001b[49m\u001b[43m[\u001b[49m\u001b[38;5;241;43m0\u001b[39;49m\u001b[43m]\u001b[49m\u001b[38;5;241m.\u001b[39mkeys()\n\u001b[0;32m     27\u001b[0m     \u001b[38;5;28;01mwith\u001b[39;00m \u001b[38;5;28mopen\u001b[39m(\u001b[38;5;124m'\u001b[39m\u001b[38;5;124mresults.csv\u001b[39m\u001b[38;5;124m'\u001b[39m, \u001b[38;5;124m'\u001b[39m\u001b[38;5;124mw\u001b[39m\u001b[38;5;124m'\u001b[39m) \u001b[38;5;28;01mas\u001b[39;00m f:\n\u001b[0;32m     28\u001b[0m         dict_writer \u001b[38;5;241m=\u001b[39m csv\u001b[38;5;241m.\u001b[39mDictWriter(f, keys)\n",
      "\u001b[1;31mIndexError\u001b[0m: list index out of range"
     ]
    }
   ],
   "source": [
    "def main():\n",
    "    job_search = 'python'\n",
    "    baseurl = 'https://uk.indeed.com'\n",
    "\n",
    "    s = HTMLSession()\n",
    "    results = []\n",
    "    url = baseurl + f'/jobs?q={job_search}&l=Bristol'\n",
    "    while True:\n",
    "        jobs = job_data_get(s, url)\n",
    "        for job in jobs[1]:\n",
    "            results.append(parse_html(job))\n",
    "        try:\n",
    "            url = baseurl + jobs[0][0].attrs['href']\n",
    "            print(url)\n",
    "        except IndexError as err:\n",
    "            print(err)\n",
    "            break\n",
    "    export(results)\n",
    "\n",
    "\n",
    "if __name__ == '__main__':\n",
    "    main()"
   ]
  },
  {
   "cell_type": "code",
   "execution_count": 104,
   "id": "824a3ba8",
   "metadata": {},
   "outputs": [
    {
     "name": "stdout",
     "output_type": "stream",
     "text": [
      "Collecting requests_html\n",
      "  Using cached requests_html-0.10.0-py3-none-any.whl (13 kB)\n",
      "Requirement already satisfied: requests in c:\\programdata\\anaconda3\\lib\\site-packages (from requests_html) (2.27.1)\n",
      "Collecting parse\n",
      "  Using cached parse-1.19.0.tar.gz (30 kB)\n",
      "Collecting pyppeteer>=0.0.14\n",
      "  Using cached pyppeteer-1.0.2-py3-none-any.whl (83 kB)\n",
      "Collecting bs4\n",
      "  Using cached bs4-0.0.1.tar.gz (1.1 kB)\n",
      "Collecting fake-useragent\n",
      "  Using cached fake-useragent-0.1.11.tar.gz (13 kB)\n",
      "Collecting w3lib\n",
      "  Using cached w3lib-2.0.1-py3-none-any.whl (20 kB)\n",
      "Collecting pyquery\n",
      "  Using cached pyquery-1.4.3-py3-none-any.whl (22 kB)\n",
      "Collecting pyee<9.0.0,>=8.1.0\n",
      "  Using cached pyee-8.2.2-py2.py3-none-any.whl (12 kB)\n",
      "Requirement already satisfied: tqdm<5.0.0,>=4.42.1 in c:\\programdata\\anaconda3\\lib\\site-packages (from pyppeteer>=0.0.14->requests_html) (4.64.0)\n",
      "Requirement already satisfied: urllib3<2.0.0,>=1.25.8 in c:\\programdata\\anaconda3\\lib\\site-packages (from pyppeteer>=0.0.14->requests_html) (1.26.9)\n",
      "Requirement already satisfied: importlib-metadata>=1.4 in c:\\programdata\\anaconda3\\lib\\site-packages (from pyppeteer>=0.0.14->requests_html) (4.11.3)\n",
      "Collecting websockets<11.0,>=10.0\n",
      "  Downloading websockets-10.3-cp39-cp39-win_amd64.whl (98 kB)\n",
      "Requirement already satisfied: appdirs<2.0.0,>=1.4.3 in c:\\programdata\\anaconda3\\lib\\site-packages (from pyppeteer>=0.0.14->requests_html) (1.4.4)\n",
      "Requirement already satisfied: certifi>=2021 in c:\\programdata\\anaconda3\\lib\\site-packages (from pyppeteer>=0.0.14->requests_html) (2021.10.8)\n",
      "Requirement already satisfied: zipp>=0.5 in c:\\programdata\\anaconda3\\lib\\site-packages (from importlib-metadata>=1.4->pyppeteer>=0.0.14->requests_html) (3.7.0)\n",
      "Requirement already satisfied: colorama in c:\\programdata\\anaconda3\\lib\\site-packages (from tqdm<5.0.0,>=4.42.1->pyppeteer>=0.0.14->requests_html) (0.4.4)\n",
      "Requirement already satisfied: beautifulsoup4 in c:\\programdata\\anaconda3\\lib\\site-packages (from bs4->requests_html) (4.11.1)\n",
      "Requirement already satisfied: soupsieve>1.2 in c:\\programdata\\anaconda3\\lib\\site-packages (from beautifulsoup4->bs4->requests_html) (2.3.1)\n",
      "Requirement already satisfied: lxml>=2.1 in c:\\programdata\\anaconda3\\lib\\site-packages (from pyquery->requests_html) (4.8.0)\n"
     ]
    },
    {
     "name": "stderr",
     "output_type": "stream",
     "text": [
      "WARNING: Ignoring invalid distribution -arkupsafe (c:\\programdata\\anaconda3\\lib\\site-packages)\n",
      "WARNING: Ignoring invalid distribution -arkupsafe (c:\\programdata\\anaconda3\\lib\\site-packages)\n",
      "WARNING: Ignoring invalid distribution -arkupsafe (c:\\programdata\\anaconda3\\lib\\site-packages)\n",
      "WARNING: Ignoring invalid distribution -arkupsafe (c:\\programdata\\anaconda3\\lib\\site-packages)\n",
      "WARNING: Ignoring invalid distribution -arkupsafe (c:\\programdata\\anaconda3\\lib\\site-packages)\n",
      "WARNING: Ignoring invalid distribution -arkupsafe (c:\\programdata\\anaconda3\\lib\\site-packages)\n",
      "WARNING: Ignoring invalid distribution -arkupsafe (c:\\programdata\\anaconda3\\lib\\site-packages)\n",
      "WARNING: Ignoring invalid distribution -arkupsafe (c:\\programdata\\anaconda3\\lib\\site-packages)\n",
      "WARNING: Ignoring invalid distribution -arkupsafe (c:\\programdata\\anaconda3\\lib\\site-packages)\n",
      "WARNING: Ignoring invalid distribution -arkupsafe (c:\\programdata\\anaconda3\\lib\\site-packages)\n",
      "WARNING: Ignoring invalid distribution -arkupsafe (c:\\programdata\\anaconda3\\lib\\site-packages)\n",
      "WARNING: Ignoring invalid distribution -arkupsafe (c:\\programdata\\anaconda3\\lib\\site-packages)\n",
      "WARNING: Ignoring invalid distribution -arkupsafe (c:\\programdata\\anaconda3\\lib\\site-packages)\n",
      "WARNING: Ignoring invalid distribution -arkupsafe (c:\\programdata\\anaconda3\\lib\\site-packages)\n"
     ]
    },
    {
     "name": "stdout",
     "output_type": "stream",
     "text": [
      "Collecting cssselect>0.7.9\n",
      "  Using cached cssselect-1.1.0-py2.py3-none-any.whl (16 kB)\n",
      "Requirement already satisfied: charset-normalizer~=2.0.0 in c:\\programdata\\anaconda3\\lib\\site-packages (from requests->requests_html) (2.0.4)\n",
      "Requirement already satisfied: idna<4,>=2.5 in c:\\programdata\\anaconda3\\lib\\site-packages (from requests->requests_html) (3.3)\n",
      "Building wheels for collected packages: bs4, fake-useragent, parse\n",
      "  Building wheel for bs4 (setup.py): started\n",
      "  Building wheel for bs4 (setup.py): finished with status 'done'\n",
      "  Created wheel for bs4: filename=bs4-0.0.1-py3-none-any.whl size=1272 sha256=6324962c77460d90188d74a7e4b4c1385cf355132e52f8036ac2abc66ec08598\n",
      "  Stored in directory: c:\\users\\fatkayd\\appdata\\local\\pip\\cache\\wheels\\73\\2b\\cb\\099980278a0c9a3e57ff1a89875ec07bfa0b6fcbebb9a8cad3\n",
      "  Building wheel for fake-useragent (setup.py): started\n",
      "  Building wheel for fake-useragent (setup.py): finished with status 'done'\n",
      "  Created wheel for fake-useragent: filename=fake_useragent-0.1.11-py3-none-any.whl size=13502 sha256=648ec509f9c4a5ec985116966728074d7d48e560a125e44539e693f34e9c5758\n",
      "  Stored in directory: c:\\users\\fatkayd\\appdata\\local\\pip\\cache\\wheels\\ae\\e7\\76\\7dd44644d065268ab0e1b4fa2e802fa4bb0157717b7d6c6d92\n",
      "  Building wheel for parse (setup.py): started\n",
      "  Building wheel for parse (setup.py): finished with status 'done'\n",
      "  Created wheel for parse: filename=parse-1.19.0-py3-none-any.whl size=24591 sha256=55377fe5b6d2dad23def0575726515b88c23421b525f806c96d79de7d111d220\n",
      "  Stored in directory: c:\\users\\fatkayd\\appdata\\local\\pip\\cache\\wheels\\d6\\9c\\58\\ee3ba36897e890f3ad81e9b730791a153fce20caa4a8a474df\n",
      "Successfully built bs4 fake-useragent parse\n",
      "Installing collected packages: websockets, pyee, cssselect, w3lib, pyquery, pyppeteer, parse, fake-useragent, bs4, requests-html\n",
      "Successfully installed bs4-0.0.1 cssselect-1.1.0 fake-useragent-0.1.11 parse-1.19.0 pyee-8.2.2 pyppeteer-1.0.2 pyquery-1.4.3 requests-html-0.10.0 w3lib-2.0.1 websockets-10.3\n"
     ]
    },
    {
     "name": "stderr",
     "output_type": "stream",
     "text": [
      "WARNING: Ignoring invalid distribution -arkupsafe (c:\\programdata\\anaconda3\\lib\\site-packages)\n",
      "WARNING: Ignoring invalid distribution -arkupsafe (c:\\programdata\\anaconda3\\lib\\site-packages)\n"
     ]
    }
   ],
   "source": [
    "!pip install requests_html"
   ]
  },
  {
   "cell_type": "code",
   "execution_count": 98,
   "id": "572c0016",
   "metadata": {
    "scrolled": true
   },
   "outputs": [
    {
     "data": {
      "text/plain": [
       "[None,\n",
       " None,\n",
       " None,\n",
       " None,\n",
       " None,\n",
       " '879.',\n",
       " '999.',\n",
       " '65.',\n",
       " '349.',\n",
       " '499.',\n",
       " '879.',\n",
       " '995.',\n",
       " '151.',\n",
       " '169.',\n",
       " '247.',\n",
       " '225.',\n",
       " '142.',\n",
       " '146.',\n",
       " '165.',\n",
       " '234.',\n",
       " '360.',\n",
       " '87.',\n",
       " '849.',\n",
       " '699.',\n",
       " '1,799.',\n",
       " '523.',\n",
       " '251.',\n",
       " '169.',\n",
       " '30.',\n",
       " '86.',\n",
       " '144.',\n",
       " '45.',\n",
       " '16.',\n",
       " '151.',\n",
       " '169.',\n",
       " '419.',\n",
       " '389.']"
      ]
     },
     "execution_count": 98,
     "metadata": {},
     "output_type": "execute_result"
    }
   ],
   "source": [
    "amt_w"
   ]
  },
  {
   "cell_type": "code",
   "execution_count": 53,
   "id": "41218156",
   "metadata": {
    "collapsed": true
   },
   "outputs": [
    {
     "ename": "TypeError",
     "evalue": "__init__() got an unexpected keyword argument 'ignore_index'",
     "output_type": "error",
     "traceback": [
      "\u001b[1;31m---------------------------------------------------------------------------\u001b[0m",
      "\u001b[1;31mTypeError\u001b[0m                                 Traceback (most recent call last)",
      "Input \u001b[1;32mIn [53]\u001b[0m, in \u001b[0;36m<cell line: 1>\u001b[1;34m()\u001b[0m\n\u001b[1;32m----> 1\u001b[0m Scraped_data \u001b[38;5;241m=\u001b[39m \u001b[43mpd\u001b[49m\u001b[38;5;241;43m.\u001b[39;49m\u001b[43mDataFrame\u001b[49m\u001b[43m(\u001b[49m\u001b[43m{\u001b[49m\u001b[38;5;124;43m'\u001b[39;49m\u001b[38;5;124;43mProductName\u001b[39;49m\u001b[38;5;124;43m'\u001b[39;49m\u001b[43m:\u001b[49m\u001b[43m \u001b[49m\u001b[43mProductName\u001b[49m\u001b[43m,\u001b[49m\u001b[43m \u001b[49m\u001b[38;5;124;43m'\u001b[39;49m\u001b[38;5;124;43mProductPrice\u001b[39;49m\u001b[38;5;124;43m'\u001b[39;49m\u001b[43m:\u001b[49m\u001b[43m \u001b[49m\u001b[43mamt_w\u001b[49m\u001b[43m,\u001b[49m\u001b[43m \u001b[49m\u001b[38;5;124;43m'\u001b[39;49m\u001b[38;5;124;43mProductPriceFrac\u001b[39;49m\u001b[38;5;124;43m'\u001b[39;49m\u001b[43m:\u001b[49m\u001b[43m \u001b[49m\u001b[43mamt_f\u001b[49m\u001b[43m,\u001b[49m\u001b[43m \u001b[49m\u001b[38;5;124;43m'\u001b[39;49m\u001b[38;5;124;43mNumberOfRatings\u001b[39;49m\u001b[38;5;124;43m'\u001b[39;49m\u001b[43m:\u001b[49m\u001b[43m \u001b[49m\u001b[43mrating_c\u001b[49m\u001b[43m,\u001b[49m\u001b[43m \u001b[49m\n\u001b[0;32m      2\u001b[0m \u001b[43m             \u001b[49m\u001b[38;5;124;43m'\u001b[39;49m\u001b[38;5;124;43mReviews\u001b[39;49m\u001b[38;5;124;43m'\u001b[39;49m\u001b[43m:\u001b[49m\u001b[43m \u001b[49m\u001b[43mreview_c\u001b[49m\u001b[43m}\u001b[49m\u001b[43m,\u001b[49m\u001b[43m \u001b[49m\u001b[43mignore_index\u001b[49m\u001b[43m \u001b[49m\u001b[38;5;241;43m=\u001b[39;49m\u001b[43m \u001b[49m\u001b[38;5;28;43;01mTrue\u001b[39;49;00m\u001b[43m)\u001b[49m\n",
      "\u001b[1;31mTypeError\u001b[0m: __init__() got an unexpected keyword argument 'ignore_index'"
     ]
    }
   ],
   "source": [
    "Scraped_data = pd.DataFrame({'ProductName': ProductName, 'ProductPrice': amt_w, 'ProductPriceFrac': amt_f, 'NumberOfRatings': rating_c, \n",
    "             'Reviews': review_c}, ignore_index = True)"
   ]
  },
  {
   "cell_type": "code",
   "execution_count": 51,
   "id": "d1448ff3",
   "metadata": {},
   "outputs": [
    {
     "data": {
      "text/html": [
       "<div>\n",
       "<style scoped>\n",
       "    .dataframe tbody tr th:only-of-type {\n",
       "        vertical-align: middle;\n",
       "    }\n",
       "\n",
       "    .dataframe tbody tr th {\n",
       "        vertical-align: top;\n",
       "    }\n",
       "\n",
       "    .dataframe thead th {\n",
       "        text-align: right;\n",
       "    }\n",
       "</style>\n",
       "<table border=\"1\" class=\"dataframe\">\n",
       "  <thead>\n",
       "    <tr style=\"text-align: right;\">\n",
       "      <th></th>\n",
       "      <th>ProductName</th>\n",
       "      <th>Real_amt</th>\n",
       "      <th>fract_am</th>\n",
       "      <th>Ratings</th>\n",
       "      <th>review</th>\n",
       "    </tr>\n",
       "  </thead>\n",
       "  <tbody>\n",
       "  </tbody>\n",
       "</table>\n",
       "</div>"
      ],
      "text/plain": [
       "Empty DataFrame\n",
       "Columns: [ProductName, Real_amt, fract_am, Ratings, review]\n",
       "Index: []"
      ]
     },
     "execution_count": 51,
     "metadata": {},
     "output_type": "execute_result"
    }
   ],
   "source": [
    "df"
   ]
  },
  {
   "cell_type": "code",
   "execution_count": null,
   "id": "e55997f0",
   "metadata": {},
   "outputs": [],
   "source": [
    "for URL in lists:\n",
    "    main(URL)"
   ]
  },
  {
   "cell_type": "code",
   "execution_count": 86,
   "id": "e9de5fdd",
   "metadata": {},
   "outputs": [],
   "source": [
    "save = []\n",
    "for fish in soup.find_all('span',  class_ = \"a-price-whole\"):\n",
    "    save.append(fish.text)"
   ]
  },
  {
   "cell_type": "code",
   "execution_count": 75,
   "id": "ac1b8fdf",
   "metadata": {},
   "outputs": [
    {
     "data": {
      "text/plain": [
       "34"
      ]
     },
     "execution_count": 75,
     "metadata": {},
     "output_type": "execute_result"
    }
   ],
   "source": [
    "len(soup.find_all('span',  class_ = \"a-price-whole\"))"
   ]
  },
  {
   "cell_type": "code",
   "execution_count": 90,
   "id": "0e8d4483",
   "metadata": {},
   "outputs": [
    {
     "data": {
      "text/plain": [
       "34"
      ]
     },
     "execution_count": 90,
     "metadata": {},
     "output_type": "execute_result"
    }
   ],
   "source": [
    "len(save)"
   ]
  },
  {
   "cell_type": "code",
   "execution_count": 27,
   "id": "21c532e9",
   "metadata": {},
   "outputs": [
    {
     "data": {
      "text/plain": [
       "'Visible+ One Month Prepaid Service & SIM Card | Unlimited 5G Ultra Wideband Data Plan with International Calling'"
      ]
     },
     "execution_count": 27,
     "metadata": {},
     "output_type": "execute_result"
    }
   ],
   "source": []
  },
  {
   "cell_type": "code",
   "execution_count": null,
   "id": "1b74bde1",
   "metadata": {},
   "outputs": [],
   "source": [
    "if __name__ == '__main__':\n",
    "#   # opening our url file to access URLs\n",
    "#     file = open(\"url.txt\", \"r\")\n",
    " \n",
    "    # iterating over the urls\n",
    "    for links in lists:\n",
    "        main(links)"
   ]
  },
  {
   "cell_type": "code",
   "execution_count": null,
   "id": "644948bc",
   "metadata": {
    "scrolled": true
   },
   "outputs": [],
   "source": [
    "nate"
   ]
  },
  {
   "cell_type": "code",
   "execution_count": null,
   "id": "af975998",
   "metadata": {},
   "outputs": [],
   "source": [
    "item"
   ]
  },
  {
   "cell_type": "code",
   "execution_count": null,
   "id": "a6133aa6",
   "metadata": {},
   "outputs": [],
   "source": [
    "def get_soup(url):\n",
    "    headers = {'User-Agent': 'Mozilla/5.0 (Windows NT 10.0; Win64; x64) AppleWebKit/537.36 (KHTML, like Gecko) Chrome/104.0.0.0 Safari/537.36',\n",
    "          'Referer': 'https://www.amazon.com/ref=nav_logo'}\n",
    "    response = requests.get(url, headers=headers)\n",
    "    #using beautiful soup to parse the website\n",
    "    bsobj = BeautifulSoup(response.content,'html.parser')\n",
    "    return bsobj"
   ]
  },
  {
   "cell_type": "code",
   "execution_count": null,
   "id": "2a835bd2",
   "metadata": {},
   "outputs": [],
   "source": [
    "reviews = test.find('span', class_ = \"a-price-whole\").text"
   ]
  },
  {
   "cell_type": "code",
   "execution_count": null,
   "id": "faaaf360",
   "metadata": {},
   "outputs": [],
   "source": [
    "reviews"
   ]
  },
  {
   "cell_type": "code",
   "execution_count": null,
   "id": "9d5340ae",
   "metadata": {},
   "outputs": [],
   "source": [
    "data_list = []\n",
    "\n",
    "def get_data(bsobj):\n",
    "    \n",
    "    try:\n",
    "        for item in member:\n",
    "            data = {\n",
    "                'name': item.find('span', class_ = \"a-size-medium a-color-base a-text-normal\").text.strip(),\n",
    "                'review': item.find('span', class_ = \"a-icon-alt\").text,\n",
    "                'rating': item.find('span', class_ = \"a-size-base s-underline-text\").text,\n",
    "                'price': item.find('span',  class_ = \"a-price-whole\").text,\n",
    "                'price2': item.find('span', class_ = \"a-price-fraction\").text\n",
    "            }\n",
    "            data_list.append(data)\n",
    "            print(\"success\")\n",
    "            \n",
    "    except:\n",
    "        pass"
   ]
  },
  {
   "cell_type": "code",
   "execution_count": null,
   "id": "ae99f21a",
   "metadata": {},
   "outputs": [],
   "source": [
    "data_list"
   ]
  },
  {
   "cell_type": "code",
   "execution_count": null,
   "id": "1e4412b7",
   "metadata": {},
   "outputs": [],
   "source": [
    "get_data(member)"
   ]
  },
  {
   "cell_type": "code",
   "execution_count": null,
   "id": "07a16a1f",
   "metadata": {
    "scrolled": false
   },
   "outputs": [],
   "source": [
    "member.find_all(class_ = \"a-size-medium a-color-base a-text-normal\").text.strip()"
   ]
  },
  {
   "cell_type": "code",
   "execution_count": null,
   "id": "cc52d759",
   "metadata": {},
   "outputs": [],
   "source": [
    "url"
   ]
  },
  {
   "cell_type": "code",
   "execution_count": null,
   "id": "13ddb723",
   "metadata": {},
   "outputs": [],
   "source": [
    "data_list"
   ]
  },
  {
   "cell_type": "code",
   "execution_count": null,
   "id": "d04be3fd",
   "metadata": {
    "scrolled": true
   },
   "outputs": [],
   "source": [
    "\n",
    "    get_data(member)\n",
    "    print(len(data_list))\n",
    "   "
   ]
  },
  {
   "cell_type": "code",
   "execution_count": 26,
   "id": "8a3a1753",
   "metadata": {},
   "outputs": [
    {
     "ename": "ConnectionError",
     "evalue": "HTTPSConnectionPool(host='www.amazon.com', port=443): Max retries exceeded with url: /s?k=phones&crid=SOOCTT94X2DY&qid=1661851606&sprefix=phones%2Caps%2C328&ref=sr_pg_1 (Caused by NewConnectionError('<urllib3.connection.HTTPSConnection object at 0x0000013A4855ED08>: Failed to establish a new connection: [WinError 10060] A connection attempt failed because the connected party did not properly respond after a period of time, or established connection failed because connected host has failed to respond'))",
     "output_type": "error",
     "traceback": [
      "\u001b[1;31m---------------------------------------------------------------------------\u001b[0m",
      "\u001b[1;31mTimeoutError\u001b[0m                              Traceback (most recent call last)",
      "\u001b[1;32mC:\\ProgramData\\Anaconda3\\envs\\first_env\\lib\\site-packages\\urllib3\\connection.py\u001b[0m in \u001b[0;36m_new_conn\u001b[1;34m(self)\u001b[0m\n\u001b[0;32m    174\u001b[0m             conn = connection.create_connection(\n\u001b[1;32m--> 175\u001b[1;33m                 \u001b[1;33m(\u001b[0m\u001b[0mself\u001b[0m\u001b[1;33m.\u001b[0m\u001b[0m_dns_host\u001b[0m\u001b[1;33m,\u001b[0m \u001b[0mself\u001b[0m\u001b[1;33m.\u001b[0m\u001b[0mport\u001b[0m\u001b[1;33m)\u001b[0m\u001b[1;33m,\u001b[0m \u001b[0mself\u001b[0m\u001b[1;33m.\u001b[0m\u001b[0mtimeout\u001b[0m\u001b[1;33m,\u001b[0m \u001b[1;33m**\u001b[0m\u001b[0mextra_kw\u001b[0m\u001b[1;33m\u001b[0m\u001b[1;33m\u001b[0m\u001b[0m\n\u001b[0m\u001b[0;32m    176\u001b[0m             )\n",
      "\u001b[1;32mC:\\ProgramData\\Anaconda3\\envs\\first_env\\lib\\site-packages\\urllib3\\util\\connection.py\u001b[0m in \u001b[0;36mcreate_connection\u001b[1;34m(address, timeout, source_address, socket_options)\u001b[0m\n\u001b[0;32m     94\u001b[0m     \u001b[1;32mif\u001b[0m \u001b[0merr\u001b[0m \u001b[1;32mis\u001b[0m \u001b[1;32mnot\u001b[0m \u001b[1;32mNone\u001b[0m\u001b[1;33m:\u001b[0m\u001b[1;33m\u001b[0m\u001b[1;33m\u001b[0m\u001b[0m\n\u001b[1;32m---> 95\u001b[1;33m         \u001b[1;32mraise\u001b[0m \u001b[0merr\u001b[0m\u001b[1;33m\u001b[0m\u001b[1;33m\u001b[0m\u001b[0m\n\u001b[0m\u001b[0;32m     96\u001b[0m \u001b[1;33m\u001b[0m\u001b[0m\n",
      "\u001b[1;32mC:\\ProgramData\\Anaconda3\\envs\\first_env\\lib\\site-packages\\urllib3\\util\\connection.py\u001b[0m in \u001b[0;36mcreate_connection\u001b[1;34m(address, timeout, source_address, socket_options)\u001b[0m\n\u001b[0;32m     84\u001b[0m                 \u001b[0msock\u001b[0m\u001b[1;33m.\u001b[0m\u001b[0mbind\u001b[0m\u001b[1;33m(\u001b[0m\u001b[0msource_address\u001b[0m\u001b[1;33m)\u001b[0m\u001b[1;33m\u001b[0m\u001b[1;33m\u001b[0m\u001b[0m\n\u001b[1;32m---> 85\u001b[1;33m             \u001b[0msock\u001b[0m\u001b[1;33m.\u001b[0m\u001b[0mconnect\u001b[0m\u001b[1;33m(\u001b[0m\u001b[0msa\u001b[0m\u001b[1;33m)\u001b[0m\u001b[1;33m\u001b[0m\u001b[1;33m\u001b[0m\u001b[0m\n\u001b[0m\u001b[0;32m     86\u001b[0m             \u001b[1;32mreturn\u001b[0m \u001b[0msock\u001b[0m\u001b[1;33m\u001b[0m\u001b[1;33m\u001b[0m\u001b[0m\n",
      "\u001b[1;31mTimeoutError\u001b[0m: [WinError 10060] A connection attempt failed because the connected party did not properly respond after a period of time, or established connection failed because connected host has failed to respond",
      "\nDuring handling of the above exception, another exception occurred:\n",
      "\u001b[1;31mNewConnectionError\u001b[0m                        Traceback (most recent call last)",
      "\u001b[1;32mC:\\ProgramData\\Anaconda3\\envs\\first_env\\lib\\site-packages\\urllib3\\connectionpool.py\u001b[0m in \u001b[0;36murlopen\u001b[1;34m(self, method, url, body, headers, retries, redirect, assert_same_host, timeout, pool_timeout, release_conn, chunked, body_pos, **response_kw)\u001b[0m\n\u001b[0;32m    709\u001b[0m                 \u001b[0mheaders\u001b[0m\u001b[1;33m=\u001b[0m\u001b[0mheaders\u001b[0m\u001b[1;33m,\u001b[0m\u001b[1;33m\u001b[0m\u001b[1;33m\u001b[0m\u001b[0m\n\u001b[1;32m--> 710\u001b[1;33m                 \u001b[0mchunked\u001b[0m\u001b[1;33m=\u001b[0m\u001b[0mchunked\u001b[0m\u001b[1;33m,\u001b[0m\u001b[1;33m\u001b[0m\u001b[1;33m\u001b[0m\u001b[0m\n\u001b[0m\u001b[0;32m    711\u001b[0m             )\n",
      "\u001b[1;32mC:\\ProgramData\\Anaconda3\\envs\\first_env\\lib\\site-packages\\urllib3\\connectionpool.py\u001b[0m in \u001b[0;36m_make_request\u001b[1;34m(self, conn, method, url, timeout, chunked, **httplib_request_kw)\u001b[0m\n\u001b[0;32m    385\u001b[0m         \u001b[1;32mtry\u001b[0m\u001b[1;33m:\u001b[0m\u001b[1;33m\u001b[0m\u001b[1;33m\u001b[0m\u001b[0m\n\u001b[1;32m--> 386\u001b[1;33m             \u001b[0mself\u001b[0m\u001b[1;33m.\u001b[0m\u001b[0m_validate_conn\u001b[0m\u001b[1;33m(\u001b[0m\u001b[0mconn\u001b[0m\u001b[1;33m)\u001b[0m\u001b[1;33m\u001b[0m\u001b[1;33m\u001b[0m\u001b[0m\n\u001b[0m\u001b[0;32m    387\u001b[0m         \u001b[1;32mexcept\u001b[0m \u001b[1;33m(\u001b[0m\u001b[0mSocketTimeout\u001b[0m\u001b[1;33m,\u001b[0m \u001b[0mBaseSSLError\u001b[0m\u001b[1;33m)\u001b[0m \u001b[1;32mas\u001b[0m \u001b[0me\u001b[0m\u001b[1;33m:\u001b[0m\u001b[1;33m\u001b[0m\u001b[1;33m\u001b[0m\u001b[0m\n",
      "\u001b[1;32mC:\\ProgramData\\Anaconda3\\envs\\first_env\\lib\\site-packages\\urllib3\\connectionpool.py\u001b[0m in \u001b[0;36m_validate_conn\u001b[1;34m(self, conn)\u001b[0m\n\u001b[0;32m   1041\u001b[0m         \u001b[1;32mif\u001b[0m \u001b[1;32mnot\u001b[0m \u001b[0mgetattr\u001b[0m\u001b[1;33m(\u001b[0m\u001b[0mconn\u001b[0m\u001b[1;33m,\u001b[0m \u001b[1;34m\"sock\"\u001b[0m\u001b[1;33m,\u001b[0m \u001b[1;32mNone\u001b[0m\u001b[1;33m)\u001b[0m\u001b[1;33m:\u001b[0m  \u001b[1;31m# AppEngine might not have  `.sock`\u001b[0m\u001b[1;33m\u001b[0m\u001b[1;33m\u001b[0m\u001b[0m\n\u001b[1;32m-> 1042\u001b[1;33m             \u001b[0mconn\u001b[0m\u001b[1;33m.\u001b[0m\u001b[0mconnect\u001b[0m\u001b[1;33m(\u001b[0m\u001b[1;33m)\u001b[0m\u001b[1;33m\u001b[0m\u001b[1;33m\u001b[0m\u001b[0m\n\u001b[0m\u001b[0;32m   1043\u001b[0m \u001b[1;33m\u001b[0m\u001b[0m\n",
      "\u001b[1;32mC:\\ProgramData\\Anaconda3\\envs\\first_env\\lib\\site-packages\\urllib3\\connection.py\u001b[0m in \u001b[0;36mconnect\u001b[1;34m(self)\u001b[0m\n\u001b[0;32m    357\u001b[0m         \u001b[1;31m# Add certificate verification\u001b[0m\u001b[1;33m\u001b[0m\u001b[1;33m\u001b[0m\u001b[1;33m\u001b[0m\u001b[0m\n\u001b[1;32m--> 358\u001b[1;33m         \u001b[0mself\u001b[0m\u001b[1;33m.\u001b[0m\u001b[0msock\u001b[0m \u001b[1;33m=\u001b[0m \u001b[0mconn\u001b[0m \u001b[1;33m=\u001b[0m \u001b[0mself\u001b[0m\u001b[1;33m.\u001b[0m\u001b[0m_new_conn\u001b[0m\u001b[1;33m(\u001b[0m\u001b[1;33m)\u001b[0m\u001b[1;33m\u001b[0m\u001b[1;33m\u001b[0m\u001b[0m\n\u001b[0m\u001b[0;32m    359\u001b[0m         \u001b[0mhostname\u001b[0m \u001b[1;33m=\u001b[0m \u001b[0mself\u001b[0m\u001b[1;33m.\u001b[0m\u001b[0mhost\u001b[0m\u001b[1;33m\u001b[0m\u001b[1;33m\u001b[0m\u001b[0m\n",
      "\u001b[1;32mC:\\ProgramData\\Anaconda3\\envs\\first_env\\lib\\site-packages\\urllib3\\connection.py\u001b[0m in \u001b[0;36m_new_conn\u001b[1;34m(self)\u001b[0m\n\u001b[0;32m    186\u001b[0m             raise NewConnectionError(\n\u001b[1;32m--> 187\u001b[1;33m                 \u001b[0mself\u001b[0m\u001b[1;33m,\u001b[0m \u001b[1;34m\"Failed to establish a new connection: %s\"\u001b[0m \u001b[1;33m%\u001b[0m \u001b[0me\u001b[0m\u001b[1;33m\u001b[0m\u001b[1;33m\u001b[0m\u001b[0m\n\u001b[0m\u001b[0;32m    188\u001b[0m             )\n",
      "\u001b[1;31mNewConnectionError\u001b[0m: <urllib3.connection.HTTPSConnection object at 0x0000013A4855ED08>: Failed to establish a new connection: [WinError 10060] A connection attempt failed because the connected party did not properly respond after a period of time, or established connection failed because connected host has failed to respond",
      "\nDuring handling of the above exception, another exception occurred:\n",
      "\u001b[1;31mMaxRetryError\u001b[0m                             Traceback (most recent call last)",
      "\u001b[1;32mC:\\ProgramData\\Anaconda3\\envs\\first_env\\lib\\site-packages\\requests\\adapters.py\u001b[0m in \u001b[0;36msend\u001b[1;34m(self, request, stream, timeout, verify, cert, proxies)\u001b[0m\n\u001b[0;32m    498\u001b[0m                     \u001b[0mretries\u001b[0m\u001b[1;33m=\u001b[0m\u001b[0mself\u001b[0m\u001b[1;33m.\u001b[0m\u001b[0mmax_retries\u001b[0m\u001b[1;33m,\u001b[0m\u001b[1;33m\u001b[0m\u001b[1;33m\u001b[0m\u001b[0m\n\u001b[1;32m--> 499\u001b[1;33m                     \u001b[0mtimeout\u001b[0m\u001b[1;33m=\u001b[0m\u001b[0mtimeout\u001b[0m\u001b[1;33m,\u001b[0m\u001b[1;33m\u001b[0m\u001b[1;33m\u001b[0m\u001b[0m\n\u001b[0m\u001b[0;32m    500\u001b[0m                 )\n",
      "\u001b[1;32mC:\\ProgramData\\Anaconda3\\envs\\first_env\\lib\\site-packages\\urllib3\\connectionpool.py\u001b[0m in \u001b[0;36murlopen\u001b[1;34m(self, method, url, body, headers, retries, redirect, assert_same_host, timeout, pool_timeout, release_conn, chunked, body_pos, **response_kw)\u001b[0m\n\u001b[0;32m    787\u001b[0m             retries = retries.increment(\n\u001b[1;32m--> 788\u001b[1;33m                 \u001b[0mmethod\u001b[0m\u001b[1;33m,\u001b[0m \u001b[0murl\u001b[0m\u001b[1;33m,\u001b[0m \u001b[0merror\u001b[0m\u001b[1;33m=\u001b[0m\u001b[0me\u001b[0m\u001b[1;33m,\u001b[0m \u001b[0m_pool\u001b[0m\u001b[1;33m=\u001b[0m\u001b[0mself\u001b[0m\u001b[1;33m,\u001b[0m \u001b[0m_stacktrace\u001b[0m\u001b[1;33m=\u001b[0m\u001b[0msys\u001b[0m\u001b[1;33m.\u001b[0m\u001b[0mexc_info\u001b[0m\u001b[1;33m(\u001b[0m\u001b[1;33m)\u001b[0m\u001b[1;33m[\u001b[0m\u001b[1;36m2\u001b[0m\u001b[1;33m]\u001b[0m\u001b[1;33m\u001b[0m\u001b[1;33m\u001b[0m\u001b[0m\n\u001b[0m\u001b[0;32m    789\u001b[0m             )\n",
      "\u001b[1;32mC:\\ProgramData\\Anaconda3\\envs\\first_env\\lib\\site-packages\\urllib3\\util\\retry.py\u001b[0m in \u001b[0;36mincrement\u001b[1;34m(self, method, url, response, error, _pool, _stacktrace)\u001b[0m\n\u001b[0;32m    591\u001b[0m         \u001b[1;32mif\u001b[0m \u001b[0mnew_retry\u001b[0m\u001b[1;33m.\u001b[0m\u001b[0mis_exhausted\u001b[0m\u001b[1;33m(\u001b[0m\u001b[1;33m)\u001b[0m\u001b[1;33m:\u001b[0m\u001b[1;33m\u001b[0m\u001b[1;33m\u001b[0m\u001b[0m\n\u001b[1;32m--> 592\u001b[1;33m             \u001b[1;32mraise\u001b[0m \u001b[0mMaxRetryError\u001b[0m\u001b[1;33m(\u001b[0m\u001b[0m_pool\u001b[0m\u001b[1;33m,\u001b[0m \u001b[0murl\u001b[0m\u001b[1;33m,\u001b[0m \u001b[0merror\u001b[0m \u001b[1;32mor\u001b[0m \u001b[0mResponseError\u001b[0m\u001b[1;33m(\u001b[0m\u001b[0mcause\u001b[0m\u001b[1;33m)\u001b[0m\u001b[1;33m)\u001b[0m\u001b[1;33m\u001b[0m\u001b[1;33m\u001b[0m\u001b[0m\n\u001b[0m\u001b[0;32m    593\u001b[0m \u001b[1;33m\u001b[0m\u001b[0m\n",
      "\u001b[1;31mMaxRetryError\u001b[0m: HTTPSConnectionPool(host='www.amazon.com', port=443): Max retries exceeded with url: /s?k=phones&crid=SOOCTT94X2DY&qid=1661851606&sprefix=phones%2Caps%2C328&ref=sr_pg_1 (Caused by NewConnectionError('<urllib3.connection.HTTPSConnection object at 0x0000013A4855ED08>: Failed to establish a new connection: [WinError 10060] A connection attempt failed because the connected party did not properly respond after a period of time, or established connection failed because connected host has failed to respond'))",
      "\nDuring handling of the above exception, another exception occurred:\n",
      "\u001b[1;31mConnectionError\u001b[0m                           Traceback (most recent call last)",
      "\u001b[1;32m~\\AppData\\Local\\Temp\\ipykernel_14184\\2517341123.py\u001b[0m in \u001b[0;36m<module>\u001b[1;34m\u001b[0m\n\u001b[0;32m      3\u001b[0m headers = {'User-Agent': 'Mozilla/5.0 (Windows NT 10.0; Win64; x64) AppleWebKit/537.36 (KHTML, like Gecko) Chrome/104.0.0.0 Safari/537.36',\n\u001b[0;32m      4\u001b[0m           'Referer': 'https://www.amazon.com/ref=nav_logo'}\n\u001b[1;32m----> 5\u001b[1;33m \u001b[0mresponse\u001b[0m \u001b[1;33m=\u001b[0m \u001b[0mrequests\u001b[0m\u001b[1;33m.\u001b[0m\u001b[0mget\u001b[0m\u001b[1;33m(\u001b[0m\u001b[0murl\u001b[0m\u001b[1;33m,\u001b[0m \u001b[1;32mNone\u001b[0m\u001b[1;33m,\u001b[0m \u001b[0mheaders\u001b[0m\u001b[1;33m=\u001b[0m\u001b[0mheaders\u001b[0m\u001b[1;33m)\u001b[0m\u001b[1;33m\u001b[0m\u001b[1;33m\u001b[0m\u001b[0m\n\u001b[0m",
      "\u001b[1;32mC:\\ProgramData\\Anaconda3\\envs\\first_env\\lib\\site-packages\\requests\\api.py\u001b[0m in \u001b[0;36mget\u001b[1;34m(url, params, **kwargs)\u001b[0m\n\u001b[0;32m     71\u001b[0m     \"\"\"\n\u001b[0;32m     72\u001b[0m \u001b[1;33m\u001b[0m\u001b[0m\n\u001b[1;32m---> 73\u001b[1;33m     \u001b[1;32mreturn\u001b[0m \u001b[0mrequest\u001b[0m\u001b[1;33m(\u001b[0m\u001b[1;34m\"get\"\u001b[0m\u001b[1;33m,\u001b[0m \u001b[0murl\u001b[0m\u001b[1;33m,\u001b[0m \u001b[0mparams\u001b[0m\u001b[1;33m=\u001b[0m\u001b[0mparams\u001b[0m\u001b[1;33m,\u001b[0m \u001b[1;33m**\u001b[0m\u001b[0mkwargs\u001b[0m\u001b[1;33m)\u001b[0m\u001b[1;33m\u001b[0m\u001b[1;33m\u001b[0m\u001b[0m\n\u001b[0m\u001b[0;32m     74\u001b[0m \u001b[1;33m\u001b[0m\u001b[0m\n\u001b[0;32m     75\u001b[0m \u001b[1;33m\u001b[0m\u001b[0m\n",
      "\u001b[1;32mC:\\ProgramData\\Anaconda3\\envs\\first_env\\lib\\site-packages\\requests\\api.py\u001b[0m in \u001b[0;36mrequest\u001b[1;34m(method, url, **kwargs)\u001b[0m\n\u001b[0;32m     57\u001b[0m     \u001b[1;31m# cases, and look like a memory leak in others.\u001b[0m\u001b[1;33m\u001b[0m\u001b[1;33m\u001b[0m\u001b[1;33m\u001b[0m\u001b[0m\n\u001b[0;32m     58\u001b[0m     \u001b[1;32mwith\u001b[0m \u001b[0msessions\u001b[0m\u001b[1;33m.\u001b[0m\u001b[0mSession\u001b[0m\u001b[1;33m(\u001b[0m\u001b[1;33m)\u001b[0m \u001b[1;32mas\u001b[0m \u001b[0msession\u001b[0m\u001b[1;33m:\u001b[0m\u001b[1;33m\u001b[0m\u001b[1;33m\u001b[0m\u001b[0m\n\u001b[1;32m---> 59\u001b[1;33m         \u001b[1;32mreturn\u001b[0m \u001b[0msession\u001b[0m\u001b[1;33m.\u001b[0m\u001b[0mrequest\u001b[0m\u001b[1;33m(\u001b[0m\u001b[0mmethod\u001b[0m\u001b[1;33m=\u001b[0m\u001b[0mmethod\u001b[0m\u001b[1;33m,\u001b[0m \u001b[0murl\u001b[0m\u001b[1;33m=\u001b[0m\u001b[0murl\u001b[0m\u001b[1;33m,\u001b[0m \u001b[1;33m**\u001b[0m\u001b[0mkwargs\u001b[0m\u001b[1;33m)\u001b[0m\u001b[1;33m\u001b[0m\u001b[1;33m\u001b[0m\u001b[0m\n\u001b[0m\u001b[0;32m     60\u001b[0m \u001b[1;33m\u001b[0m\u001b[0m\n\u001b[0;32m     61\u001b[0m \u001b[1;33m\u001b[0m\u001b[0m\n",
      "\u001b[1;32mC:\\ProgramData\\Anaconda3\\envs\\first_env\\lib\\site-packages\\requests\\sessions.py\u001b[0m in \u001b[0;36mrequest\u001b[1;34m(self, method, url, params, data, headers, cookies, files, auth, timeout, allow_redirects, proxies, hooks, stream, verify, cert, json)\u001b[0m\n\u001b[0;32m    585\u001b[0m         }\n\u001b[0;32m    586\u001b[0m         \u001b[0msend_kwargs\u001b[0m\u001b[1;33m.\u001b[0m\u001b[0mupdate\u001b[0m\u001b[1;33m(\u001b[0m\u001b[0msettings\u001b[0m\u001b[1;33m)\u001b[0m\u001b[1;33m\u001b[0m\u001b[1;33m\u001b[0m\u001b[0m\n\u001b[1;32m--> 587\u001b[1;33m         \u001b[0mresp\u001b[0m \u001b[1;33m=\u001b[0m \u001b[0mself\u001b[0m\u001b[1;33m.\u001b[0m\u001b[0msend\u001b[0m\u001b[1;33m(\u001b[0m\u001b[0mprep\u001b[0m\u001b[1;33m,\u001b[0m \u001b[1;33m**\u001b[0m\u001b[0msend_kwargs\u001b[0m\u001b[1;33m)\u001b[0m\u001b[1;33m\u001b[0m\u001b[1;33m\u001b[0m\u001b[0m\n\u001b[0m\u001b[0;32m    588\u001b[0m \u001b[1;33m\u001b[0m\u001b[0m\n\u001b[0;32m    589\u001b[0m         \u001b[1;32mreturn\u001b[0m \u001b[0mresp\u001b[0m\u001b[1;33m\u001b[0m\u001b[1;33m\u001b[0m\u001b[0m\n",
      "\u001b[1;32mC:\\ProgramData\\Anaconda3\\envs\\first_env\\lib\\site-packages\\requests\\sessions.py\u001b[0m in \u001b[0;36msend\u001b[1;34m(self, request, **kwargs)\u001b[0m\n\u001b[0;32m    699\u001b[0m \u001b[1;33m\u001b[0m\u001b[0m\n\u001b[0;32m    700\u001b[0m         \u001b[1;31m# Send the request\u001b[0m\u001b[1;33m\u001b[0m\u001b[1;33m\u001b[0m\u001b[1;33m\u001b[0m\u001b[0m\n\u001b[1;32m--> 701\u001b[1;33m         \u001b[0mr\u001b[0m \u001b[1;33m=\u001b[0m \u001b[0madapter\u001b[0m\u001b[1;33m.\u001b[0m\u001b[0msend\u001b[0m\u001b[1;33m(\u001b[0m\u001b[0mrequest\u001b[0m\u001b[1;33m,\u001b[0m \u001b[1;33m**\u001b[0m\u001b[0mkwargs\u001b[0m\u001b[1;33m)\u001b[0m\u001b[1;33m\u001b[0m\u001b[1;33m\u001b[0m\u001b[0m\n\u001b[0m\u001b[0;32m    702\u001b[0m \u001b[1;33m\u001b[0m\u001b[0m\n\u001b[0;32m    703\u001b[0m         \u001b[1;31m# Total elapsed time of the request (approximately)\u001b[0m\u001b[1;33m\u001b[0m\u001b[1;33m\u001b[0m\u001b[1;33m\u001b[0m\u001b[0m\n",
      "\u001b[1;32mC:\\ProgramData\\Anaconda3\\envs\\first_env\\lib\\site-packages\\requests\\adapters.py\u001b[0m in \u001b[0;36msend\u001b[1;34m(self, request, stream, timeout, verify, cert, proxies)\u001b[0m\n\u001b[0;32m    563\u001b[0m                 \u001b[1;32mraise\u001b[0m \u001b[0mSSLError\u001b[0m\u001b[1;33m(\u001b[0m\u001b[0me\u001b[0m\u001b[1;33m,\u001b[0m \u001b[0mrequest\u001b[0m\u001b[1;33m=\u001b[0m\u001b[0mrequest\u001b[0m\u001b[1;33m)\u001b[0m\u001b[1;33m\u001b[0m\u001b[1;33m\u001b[0m\u001b[0m\n\u001b[0;32m    564\u001b[0m \u001b[1;33m\u001b[0m\u001b[0m\n\u001b[1;32m--> 565\u001b[1;33m             \u001b[1;32mraise\u001b[0m \u001b[0mConnectionError\u001b[0m\u001b[1;33m(\u001b[0m\u001b[0me\u001b[0m\u001b[1;33m,\u001b[0m \u001b[0mrequest\u001b[0m\u001b[1;33m=\u001b[0m\u001b[0mrequest\u001b[0m\u001b[1;33m)\u001b[0m\u001b[1;33m\u001b[0m\u001b[1;33m\u001b[0m\u001b[0m\n\u001b[0m\u001b[0;32m    566\u001b[0m \u001b[1;33m\u001b[0m\u001b[0m\n\u001b[0;32m    567\u001b[0m         \u001b[1;32mexcept\u001b[0m \u001b[0mClosedPoolError\u001b[0m \u001b[1;32mas\u001b[0m \u001b[0me\u001b[0m\u001b[1;33m:\u001b[0m\u001b[1;33m\u001b[0m\u001b[1;33m\u001b[0m\u001b[0m\n",
      "\u001b[1;31mConnectionError\u001b[0m: HTTPSConnectionPool(host='www.amazon.com', port=443): Max retries exceeded with url: /s?k=phones&crid=SOOCTT94X2DY&qid=1661851606&sprefix=phones%2Caps%2C328&ref=sr_pg_1 (Caused by NewConnectionError('<urllib3.connection.HTTPSConnection object at 0x0000013A4855ED08>: Failed to establish a new connection: [WinError 10060] A connection attempt failed because the connected party did not properly respond after a period of time, or established connection failed because connected host has failed to respond'))"
     ]
    }
   ],
   "source": [
    "#accessing the amazon website\n",
    "url = \"https://www.amazon.com/s?k=phones&crid=SOOCTT94X2DY&qid=1661851606&sprefix=phones%2Caps%2C328&ref=sr_pg_1\"\n",
    "headers = {'User-Agent': 'Mozilla/5.0 (Windows NT 10.0; Win64; x64) AppleWebKit/537.36 (KHTML, like Gecko) Chrome/104.0.0.0 Safari/537.36',\n",
    "          'Referer': 'https://www.amazon.com/ref=nav_logo'}\n",
    "response = requests.get(url, None, headers=headers)"
   ]
  },
  {
   "cell_type": "code",
   "execution_count": null,
   "id": "e9e5fa9a",
   "metadata": {},
   "outputs": [],
   "source": [
    "#using beautiful soup to parse the website\n",
    "bsobj = soup(response.content,'lxml')"
   ]
  },
  {
   "cell_type": "code",
   "execution_count": null,
   "id": "69e867c5",
   "metadata": {},
   "outputs": [],
   "source": [
    "test = []\n",
    "page = range(1,20)\n",
    "for num in page:\n",
    "    \n",
    "    #accessing the amazon website\n",
    "    url = \"https://www.amazon.com/s?k=phones&crid=SOOCTT94X2DY&qid=1661851606&sprefix=phones%2Caps%2C328&ref=sr_pg_\" + \"num\"\n",
    "    headers = {'User-Agent': 'Mozilla/5.0 (Windows NT 10.0; Win64; x64) AppleWebKit/537.36 (KHTML, like Gecko) Chrome/104.0.0.0 Safari/537.36',\n",
    "          'Referer': 'https://www.amazon.com/ref=nav_logo'}\n",
    "    respons = requests.get(url, None, headers=headers)\n",
    "    test = soup(respons.content,'lxml')"
   ]
  },
  {
   "cell_type": "code",
   "execution_count": null,
   "id": "933d931d",
   "metadata": {
    "scrolled": true
   },
   "outputs": [],
   "source": [
    "test"
   ]
  },
  {
   "cell_type": "code",
   "execution_count": null,
   "id": "c04ae4c5",
   "metadata": {
    "scrolled": false
   },
   "outputs": [],
   "source": [
    "respons"
   ]
  },
  {
   "cell_type": "code",
   "execution_count": null,
   "id": "f4ccbcef",
   "metadata": {
    "scrolled": true
   },
   "outputs": [],
   "source": [
    "respons.content"
   ]
  }
 ],
 "metadata": {
  "kernelspec": {
   "display_name": "Python 3 (ipykernel)",
   "language": "python",
   "name": "python3"
  },
  "language_info": {
   "codemirror_mode": {
    "name": "ipython",
    "version": 3
   },
   "file_extension": ".py",
   "mimetype": "text/x-python",
   "name": "python",
   "nbconvert_exporter": "python",
   "pygments_lexer": "ipython3",
   "version": "3.9.12"
  }
 },
 "nbformat": 4,
 "nbformat_minor": 5
}
