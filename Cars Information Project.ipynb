{
 "cells": [
  {
   "cell_type": "markdown",
   "id": "c6706021",
   "metadata": {},
   "source": [
    "# SCRAPING CAR INFO FROM A CAR WEBSITE"
   ]
  },
  {
   "cell_type": "markdown",
   "id": "a7d07228",
   "metadata": {},
   "source": [
    "### Importing the required libraries"
   ]
  },
  {
   "cell_type": "code",
   "execution_count": 2,
   "id": "685beb3c",
   "metadata": {},
   "outputs": [],
   "source": [
    "from bs4 import BeautifulSoup\n",
    "import requests\n",
    "import pandas as pd\n",
    "import numpy as np\n",
    "import re"
   ]
  },
  {
   "cell_type": "markdown",
   "id": "4cc1568d",
   "metadata": {},
   "source": [
    "### Looping through pages of Data and using the requests  and BeautfulSoup libraries  to get html page content"
   ]
  },
  {
   "cell_type": "code",
   "execution_count": 25,
   "id": "a1e508a6",
   "metadata": {},
   "outputs": [],
   "source": [
    "#creates empty lists to store data\n",
    "model = []\n",
    "mileage = []\n",
    "price = []\n",
    "dealer = []\n",
    "rating = []\n",
    "reviews = []\n",
    "\n",
    "#creates a for loop to move through pages and return its html content\n",
    "for i in range(1,20):\n",
    "    website = 'https://www.cars.com/shopping/results/?page=' + str(i) + '&page_size=20&list_price_max=&makes[]=bmw&maximum_distance=20&stock_type=all&zip='\n",
    "    response = requests.get(website)\n",
    "    soup = BeautifulSoup(response.content, 'html.parser')\n",
    "    results = soup.findAll('div',{'class':\"vehicle-card\"})#vehicle card houses all neccessary info about the car\n",
    "    \n",
    "    for result in results:\n",
    "        try:\n",
    "            model.append(result.find('h2', {'class':\"title\"}).get_text())#gets the name of the car\n",
    "        except:\n",
    "            model.append('n/a')\n",
    "            \n",
    "            \n",
    "        try:\n",
    "            mileage.append(result.find('div', {'class':\"mileage\"}).get_text())#gets how much miles the car has moved(for used cars)\n",
    "        except:\n",
    "            mileage.append('n/a')\n",
    "            \n",
    "            \n",
    "        try:\n",
    "            price.append(result.find('span', {'class':\"primary-price\"}).get_text())#gets the price of the car\n",
    "        except:\n",
    "            price.append('n/a')\n",
    "            \n",
    "            \n",
    "        try:\n",
    "            dealer.append(result.find('div', {'class':\"dealer-name\"}).get_text().strip())#gets the person respondible for sale of car\n",
    "        except:\n",
    "            dealer.append('n/a')\n",
    "            \n",
    "            \n",
    "        try:\n",
    "            rating.append(result.find('span', {'class':\"sds-rating__count\"}).get_text())\n",
    "        except:\n",
    "            rating.append('n/a')\n",
    "            \n",
    "            \n",
    "        try:\n",
    "            reviews.append(result.find('span', {'class':\"sds-rating__link sds-button-link\"}).get_text())\n",
    "        except:\n",
    "            reviews.append('n/a')\n"
   ]
  },
  {
   "cell_type": "markdown",
   "id": "cb499ddd",
   "metadata": {},
   "source": [
    "## I created a dataframe out of the information"
   ]
  },
  {
   "cell_type": "code",
   "execution_count": 112,
   "id": "752fe3a8",
   "metadata": {},
   "outputs": [
    {
     "data": {
      "text/html": [
       "<div>\n",
       "<style scoped>\n",
       "    .dataframe tbody tr th:only-of-type {\n",
       "        vertical-align: middle;\n",
       "    }\n",
       "\n",
       "    .dataframe tbody tr th {\n",
       "        vertical-align: top;\n",
       "    }\n",
       "\n",
       "    .dataframe thead th {\n",
       "        text-align: right;\n",
       "    }\n",
       "</style>\n",
       "<table border=\"1\" class=\"dataframe\">\n",
       "  <thead>\n",
       "    <tr style=\"text-align: right;\">\n",
       "      <th></th>\n",
       "      <th>Model</th>\n",
       "      <th>Mileage</th>\n",
       "      <th>Price</th>\n",
       "      <th>Dealer</th>\n",
       "      <th>Rating</th>\n",
       "      <th>Reviews</th>\n",
       "    </tr>\n",
       "  </thead>\n",
       "  <tbody>\n",
       "    <tr>\n",
       "      <th>0</th>\n",
       "      <td>2023 BMW 540 i xDrive</td>\n",
       "      <td>n/a</td>\n",
       "      <td>$72,420</td>\n",
       "      <td>BMW Seattle</td>\n",
       "      <td>4.8</td>\n",
       "      <td>(914 reviews)</td>\n",
       "    </tr>\n",
       "    <tr>\n",
       "      <th>1</th>\n",
       "      <td>2023 BMW X6 xDrive40i</td>\n",
       "      <td>n/a</td>\n",
       "      <td>$83,405</td>\n",
       "      <td>Melbourne BMW</td>\n",
       "      <td>4.0</td>\n",
       "      <td>(66 reviews)</td>\n",
       "    </tr>\n",
       "    <tr>\n",
       "      <th>2</th>\n",
       "      <td>2018 BMW 340 i xDrive</td>\n",
       "      <td>36,836 mi.</td>\n",
       "      <td>$34,998</td>\n",
       "      <td>CarMax Sanford - Now offering Curbside Pickup ...</td>\n",
       "      <td>3.2</td>\n",
       "      <td>(14 reviews)</td>\n",
       "    </tr>\n",
       "    <tr>\n",
       "      <th>3</th>\n",
       "      <td>2022 BMW X1 sDrive28i</td>\n",
       "      <td>6,492 mi.</td>\n",
       "      <td>$39,999</td>\n",
       "      <td>Off Lease Only Orlando</td>\n",
       "      <td>4.9</td>\n",
       "      <td>(28,171 reviews)</td>\n",
       "    </tr>\n",
       "    <tr>\n",
       "      <th>4</th>\n",
       "      <td>2009 BMW 135 i</td>\n",
       "      <td>51,230 mi.</td>\n",
       "      <td>$24,998</td>\n",
       "      <td>Quality Auto Center</td>\n",
       "      <td>4.5</td>\n",
       "      <td>(33 reviews)</td>\n",
       "    </tr>\n",
       "  </tbody>\n",
       "</table>\n",
       "</div>"
      ],
      "text/plain": [
       "                   Model     Mileage    Price  \\\n",
       "0  2023 BMW 540 i xDrive         n/a  $72,420   \n",
       "1  2023 BMW X6 xDrive40i         n/a  $83,405   \n",
       "2  2018 BMW 340 i xDrive  36,836 mi.  $34,998   \n",
       "3  2022 BMW X1 sDrive28i   6,492 mi.  $39,999   \n",
       "4         2009 BMW 135 i  51,230 mi.  $24,998   \n",
       "\n",
       "                                              Dealer Rating           Reviews  \n",
       "0                                        BMW Seattle    4.8     (914 reviews)  \n",
       "1                                      Melbourne BMW    4.0      (66 reviews)  \n",
       "2  CarMax Sanford - Now offering Curbside Pickup ...    3.2      (14 reviews)  \n",
       "3                             Off Lease Only Orlando    4.9  (28,171 reviews)  \n",
       "4                                Quality Auto Center    4.5      (33 reviews)  "
      ]
     },
     "execution_count": 112,
     "metadata": {},
     "output_type": "execute_result"
    }
   ],
   "source": [
    "#creates a dataframe and use the data generated as columns\n",
    "cars = pd.DataFrame({'Model' : model, 'Mileage' : mileage, 'Price' : price,\n",
    "                                'Dealer' : dealer, 'Rating' : rating, 'Reviews' : reviews})\n",
    "cars.head()"
   ]
  },
  {
   "cell_type": "code",
   "execution_count": 113,
   "id": "304ea5b1",
   "metadata": {
    "scrolled": true
   },
   "outputs": [
    {
     "data": {
      "text/html": [
       "<div>\n",
       "<style scoped>\n",
       "    .dataframe tbody tr th:only-of-type {\n",
       "        vertical-align: middle;\n",
       "    }\n",
       "\n",
       "    .dataframe tbody tr th {\n",
       "        vertical-align: top;\n",
       "    }\n",
       "\n",
       "    .dataframe thead th {\n",
       "        text-align: right;\n",
       "    }\n",
       "</style>\n",
       "<table border=\"1\" class=\"dataframe\">\n",
       "  <thead>\n",
       "    <tr style=\"text-align: right;\">\n",
       "      <th></th>\n",
       "      <th>Model</th>\n",
       "      <th>Mileage</th>\n",
       "      <th>Price</th>\n",
       "      <th>Dealer</th>\n",
       "      <th>Rating</th>\n",
       "      <th>Reviews</th>\n",
       "    </tr>\n",
       "  </thead>\n",
       "  <tbody>\n",
       "    <tr>\n",
       "      <th>375</th>\n",
       "      <td>2021 BMW X5 sDrive40i</td>\n",
       "      <td>21,095 mi.</td>\n",
       "      <td>$57,995</td>\n",
       "      <td>Don Mealey Chevrolet</td>\n",
       "      <td>4.7</td>\n",
       "      <td>(971 reviews)</td>\n",
       "    </tr>\n",
       "    <tr>\n",
       "      <th>376</th>\n",
       "      <td>1998 BMW 740 i</td>\n",
       "      <td>83,670 mi.</td>\n",
       "      <td>$14,980</td>\n",
       "      <td>Fall Creek Motor Cars</td>\n",
       "      <td>4.5</td>\n",
       "      <td>(12 reviews)</td>\n",
       "    </tr>\n",
       "    <tr>\n",
       "      <th>377</th>\n",
       "      <td>2019 BMW 740 i</td>\n",
       "      <td>32,839 mi.</td>\n",
       "      <td>$51,477</td>\n",
       "      <td>BMW North Scottsdale</td>\n",
       "      <td>4.6</td>\n",
       "      <td>(552 reviews)</td>\n",
       "    </tr>\n",
       "    <tr>\n",
       "      <th>378</th>\n",
       "      <td>2020 BMW X3 sDrive30i</td>\n",
       "      <td>19,895 mi.</td>\n",
       "      <td>$41,997</td>\n",
       "      <td>BMW North Scottsdale</td>\n",
       "      <td>4.6</td>\n",
       "      <td>(552 reviews)</td>\n",
       "    </tr>\n",
       "    <tr>\n",
       "      <th>379</th>\n",
       "      <td>2019 BMW X5 xDrive40i</td>\n",
       "      <td>18,942 mi.</td>\n",
       "      <td>$52,027</td>\n",
       "      <td>BMW of Orland Park</td>\n",
       "      <td>4.5</td>\n",
       "      <td>(617 reviews)</td>\n",
       "    </tr>\n",
       "  </tbody>\n",
       "</table>\n",
       "</div>"
      ],
      "text/plain": [
       "                     Model     Mileage    Price                 Dealer Rating  \\\n",
       "375  2021 BMW X5 sDrive40i  21,095 mi.  $57,995   Don Mealey Chevrolet    4.7   \n",
       "376         1998 BMW 740 i  83,670 mi.  $14,980  Fall Creek Motor Cars    4.5   \n",
       "377         2019 BMW 740 i  32,839 mi.  $51,477   BMW North Scottsdale    4.6   \n",
       "378  2020 BMW X3 sDrive30i  19,895 mi.  $41,997   BMW North Scottsdale    4.6   \n",
       "379  2019 BMW X5 xDrive40i  18,942 mi.  $52,027     BMW of Orland Park    4.5   \n",
       "\n",
       "           Reviews  \n",
       "375  (971 reviews)  \n",
       "376   (12 reviews)  \n",
       "377  (552 reviews)  \n",
       "378  (552 reviews)  \n",
       "379  (617 reviews)  "
      ]
     },
     "execution_count": 113,
     "metadata": {},
     "output_type": "execute_result"
    }
   ],
   "source": [
    "cars.tail()"
   ]
  },
  {
   "cell_type": "code",
   "execution_count": 114,
   "id": "8b0986c9",
   "metadata": {
    "scrolled": true
   },
   "outputs": [
    {
     "name": "stdout",
     "output_type": "stream",
     "text": [
      "<class 'pandas.core.frame.DataFrame'>\n",
      "RangeIndex: 380 entries, 0 to 379\n",
      "Data columns (total 6 columns):\n",
      " #   Column   Non-Null Count  Dtype \n",
      "---  ------   --------------  ----- \n",
      " 0   Model    380 non-null    object\n",
      " 1   Mileage  380 non-null    object\n",
      " 2   Price    380 non-null    object\n",
      " 3   Dealer   380 non-null    object\n",
      " 4   Rating   380 non-null    object\n",
      " 5   Reviews  380 non-null    object\n",
      "dtypes: object(6)\n",
      "memory usage: 17.9+ KB\n"
     ]
    }
   ],
   "source": [
    "cars.info()"
   ]
  },
  {
   "cell_type": "code",
   "execution_count": 115,
   "id": "efa2c349",
   "metadata": {},
   "outputs": [
    {
     "data": {
      "text/plain": [
       "0"
      ]
     },
     "execution_count": 115,
     "metadata": {},
     "output_type": "execute_result"
    }
   ],
   "source": [
    "#this code shows the data contains no duplicates\n",
    "cars.duplicated().sum()"
   ]
  },
  {
   "cell_type": "markdown",
   "id": "32c03f3e",
   "metadata": {},
   "source": [
    "## Data Wrangling"
   ]
  },
  {
   "cell_type": "markdown",
   "id": "c8cb10ec",
   "metadata": {},
   "source": [
    "*Here, i will be working on the columns and making them clean enough for analysis*"
   ]
  },
  {
   "cell_type": "code",
   "execution_count": 128,
   "id": "2773723e",
   "metadata": {},
   "outputs": [],
   "source": [
    "#removes the uneccessary text and brackets in the column\n",
    "cars['Reviews'] = cars['Reviews'].apply(lambda x: x.strip('reviews)').strip('('))\n",
    "\n",
    "cars['Reviews'] = cars['Reviews'].apply(lambda x: x.replace(\",\", \"\"))\n",
    "\n",
    "cars['Reviews'] = cars['Reviews'].replace(\"n/a\", np.nan)\n",
    "\n",
    "cars['Reviews'] = cars[~(cars['Reviews'].isnull())].Reviews.astype(int)"
   ]
  },
  {
   "cell_type": "markdown",
   "id": "4f616945",
   "metadata": {},
   "source": [
    "### Cleaning Mileage Column"
   ]
  },
  {
   "cell_type": "code",
   "execution_count": 117,
   "id": "53dbd1e9",
   "metadata": {},
   "outputs": [],
   "source": [
    "#removes the unit of measure from the column\n",
    "cars['Mileage'] = cars['Mileage'].apply(lambda x: x.strip('mi.').replace(',', ''))\n",
    "\n",
    "cars['Mileage'] = cars['Mileage'].replace(\"n/a\", np.nan)\n",
    "\n",
    "#line of code converts all non null values oin the column to a float data type\n",
    "cars['Mileage'] = cars[~(cars['Mileage'].isnull())].Mileage.astype(int)"
   ]
  },
  {
   "cell_type": "markdown",
   "id": "5605a8e2",
   "metadata": {},
   "source": [
    "### Cleaning Price Column"
   ]
  },
  {
   "cell_type": "code",
   "execution_count": 118,
   "id": "3694f631",
   "metadata": {},
   "outputs": [],
   "source": [
    "#removes the unit of measure from the column\n",
    "cars['Price'] = cars['Price'].apply(lambda x: x.strip('$').replace(\",\", \"\"))\n",
    "\n",
    "cars['Price'] = cars['Price'].astype(int)"
   ]
  },
  {
   "cell_type": "markdown",
   "id": "25db5971",
   "metadata": {},
   "source": [
    "### Cleaning Rating Column"
   ]
  },
  {
   "cell_type": "code",
   "execution_count": 119,
   "id": "e9aea078",
   "metadata": {},
   "outputs": [],
   "source": [
    "cars['Rating'] = cars['Rating'].replace(\"n/a\", np.nan)\n",
    "\n",
    "cars['Rating'] = cars['Rating'].astype(float)\n",
    "\n",
    "cars['Rating'] = cars[~(cars['Rating'].isnull())].Rating.astype(float)"
   ]
  },
  {
   "cell_type": "markdown",
   "id": "cbf2cb58",
   "metadata": {},
   "source": [
    "### Feature Enginnering\n",
    "\n",
    "*Here, i aim to get the year the car was produced from the Model of the car*\n"
   ]
  },
  {
   "cell_type": "code",
   "execution_count": 137,
   "id": "aa507fa4",
   "metadata": {
    "scrolled": true
   },
   "outputs": [],
   "source": [
    "#gets the year for each model of the car\n",
    "cars['Year'] = cars['Model'].str[0:4]"
   ]
  },
  {
   "cell_type": "code",
   "execution_count": 140,
   "id": "0a36beb8",
   "metadata": {
    "scrolled": true
   },
   "outputs": [
    {
     "name": "stdout",
     "output_type": "stream",
     "text": [
      "<class 'pandas.core.frame.DataFrame'>\n",
      "RangeIndex: 380 entries, 0 to 379\n",
      "Data columns (total 7 columns):\n",
      " #   Column   Non-Null Count  Dtype  \n",
      "---  ------   --------------  -----  \n",
      " 0   Model    380 non-null    object \n",
      " 1   Mileage  353 non-null    float64\n",
      " 2   Price    380 non-null    int32  \n",
      " 3   Dealer   380 non-null    object \n",
      " 4   Rating   371 non-null    float64\n",
      " 5   Reviews  373 non-null    float64\n",
      " 6   Year     380 non-null    object \n",
      "dtypes: float64(3), int32(1), object(3)\n",
      "memory usage: 19.4+ KB\n"
     ]
    }
   ],
   "source": [
    "cars.info()"
   ]
  },
  {
   "cell_type": "code",
   "execution_count": 141,
   "id": "66041efb",
   "metadata": {
    "scrolled": true
   },
   "outputs": [
    {
     "data": {
      "text/html": [
       "<div>\n",
       "<style scoped>\n",
       "    .dataframe tbody tr th:only-of-type {\n",
       "        vertical-align: middle;\n",
       "    }\n",
       "\n",
       "    .dataframe tbody tr th {\n",
       "        vertical-align: top;\n",
       "    }\n",
       "\n",
       "    .dataframe thead th {\n",
       "        text-align: right;\n",
       "    }\n",
       "</style>\n",
       "<table border=\"1\" class=\"dataframe\">\n",
       "  <thead>\n",
       "    <tr style=\"text-align: right;\">\n",
       "      <th></th>\n",
       "      <th>Model</th>\n",
       "      <th>Mileage</th>\n",
       "      <th>Price</th>\n",
       "      <th>Dealer</th>\n",
       "      <th>Rating</th>\n",
       "      <th>Reviews</th>\n",
       "      <th>Year</th>\n",
       "    </tr>\n",
       "  </thead>\n",
       "  <tbody>\n",
       "    <tr>\n",
       "      <th>0</th>\n",
       "      <td>2023 BMW 540 i xDrive</td>\n",
       "      <td>NaN</td>\n",
       "      <td>72420</td>\n",
       "      <td>BMW Seattle</td>\n",
       "      <td>4.8</td>\n",
       "      <td>914.0</td>\n",
       "      <td>2023</td>\n",
       "    </tr>\n",
       "    <tr>\n",
       "      <th>1</th>\n",
       "      <td>2023 BMW X6 xDrive40i</td>\n",
       "      <td>NaN</td>\n",
       "      <td>83405</td>\n",
       "      <td>Melbourne BMW</td>\n",
       "      <td>4.0</td>\n",
       "      <td>66.0</td>\n",
       "      <td>2023</td>\n",
       "    </tr>\n",
       "    <tr>\n",
       "      <th>2</th>\n",
       "      <td>2018 BMW 340 i xDrive</td>\n",
       "      <td>36836.0</td>\n",
       "      <td>34998</td>\n",
       "      <td>CarMax Sanford - Now offering Curbside Pickup ...</td>\n",
       "      <td>3.2</td>\n",
       "      <td>14.0</td>\n",
       "      <td>2018</td>\n",
       "    </tr>\n",
       "    <tr>\n",
       "      <th>3</th>\n",
       "      <td>2022 BMW X1 sDrive28i</td>\n",
       "      <td>6492.0</td>\n",
       "      <td>39999</td>\n",
       "      <td>Off Lease Only Orlando</td>\n",
       "      <td>4.9</td>\n",
       "      <td>28171.0</td>\n",
       "      <td>2022</td>\n",
       "    </tr>\n",
       "    <tr>\n",
       "      <th>4</th>\n",
       "      <td>2009 BMW 135 i</td>\n",
       "      <td>51230.0</td>\n",
       "      <td>24998</td>\n",
       "      <td>Quality Auto Center</td>\n",
       "      <td>4.5</td>\n",
       "      <td>33.0</td>\n",
       "      <td>2009</td>\n",
       "    </tr>\n",
       "  </tbody>\n",
       "</table>\n",
       "</div>"
      ],
      "text/plain": [
       "                   Model  Mileage  Price  \\\n",
       "0  2023 BMW 540 i xDrive      NaN  72420   \n",
       "1  2023 BMW X6 xDrive40i      NaN  83405   \n",
       "2  2018 BMW 340 i xDrive  36836.0  34998   \n",
       "3  2022 BMW X1 sDrive28i   6492.0  39999   \n",
       "4         2009 BMW 135 i  51230.0  24998   \n",
       "\n",
       "                                              Dealer  Rating  Reviews  Year  \n",
       "0                                        BMW Seattle     4.8    914.0  2023  \n",
       "1                                      Melbourne BMW     4.0     66.0  2023  \n",
       "2  CarMax Sanford - Now offering Curbside Pickup ...     3.2     14.0  2018  \n",
       "3                             Off Lease Only Orlando     4.9  28171.0  2022  \n",
       "4                                Quality Auto Center     4.5     33.0  2009  "
      ]
     },
     "execution_count": 141,
     "metadata": {},
     "output_type": "execute_result"
    }
   ],
   "source": [
    "cars.head()"
   ]
  },
  {
   "cell_type": "code",
   "execution_count": 142,
   "id": "ebd14772",
   "metadata": {},
   "outputs": [],
   "source": [
    "cars.to_csv('cars.csv', index = False)"
   ]
  },
  {
   "cell_type": "markdown",
   "id": "787cfa66",
   "metadata": {},
   "source": [
    "## Exploratory Data Analysis"
   ]
  },
  {
   "cell_type": "code",
   "execution_count": 3,
   "id": "aec3da66",
   "metadata": {},
   "outputs": [],
   "source": [
    "cars = pd.read_csv('cars.csv')"
   ]
  },
  {
   "cell_type": "code",
   "execution_count": 4,
   "id": "80e70a67",
   "metadata": {
    "scrolled": true
   },
   "outputs": [
    {
     "data": {
      "text/plain": [
       "Model       object\n",
       "Mileage    float64\n",
       "Price        int64\n",
       "Dealer      object\n",
       "Rating     float64\n",
       "Reviews    float64\n",
       "Year         int64\n",
       "dtype: object"
      ]
     },
     "execution_count": 4,
     "metadata": {},
     "output_type": "execute_result"
    }
   ],
   "source": [
    "#check data types and info\n",
    "cars.dtypes"
   ]
  },
  {
   "cell_type": "code",
   "execution_count": 144,
   "id": "b5223dbb",
   "metadata": {},
   "outputs": [
    {
     "data": {
      "text/html": [
       "<div>\n",
       "<style scoped>\n",
       "    .dataframe tbody tr th:only-of-type {\n",
       "        vertical-align: middle;\n",
       "    }\n",
       "\n",
       "    .dataframe tbody tr th {\n",
       "        vertical-align: top;\n",
       "    }\n",
       "\n",
       "    .dataframe thead th {\n",
       "        text-align: right;\n",
       "    }\n",
       "</style>\n",
       "<table border=\"1\" class=\"dataframe\">\n",
       "  <thead>\n",
       "    <tr style=\"text-align: right;\">\n",
       "      <th></th>\n",
       "      <th>Mileage</th>\n",
       "      <th>Price</th>\n",
       "      <th>Rating</th>\n",
       "      <th>Reviews</th>\n",
       "    </tr>\n",
       "  </thead>\n",
       "  <tbody>\n",
       "    <tr>\n",
       "      <th>count</th>\n",
       "      <td>353.000000</td>\n",
       "      <td>380.000000</td>\n",
       "      <td>371.000000</td>\n",
       "      <td>373.000000</td>\n",
       "    </tr>\n",
       "    <tr>\n",
       "      <th>mean</th>\n",
       "      <td>40201.300283</td>\n",
       "      <td>44212.655263</td>\n",
       "      <td>4.451752</td>\n",
       "      <td>1320.927614</td>\n",
       "    </tr>\n",
       "    <tr>\n",
       "      <th>std</th>\n",
       "      <td>26201.574277</td>\n",
       "      <td>19865.062600</td>\n",
       "      <td>0.500071</td>\n",
       "      <td>3411.450829</td>\n",
       "    </tr>\n",
       "    <tr>\n",
       "      <th>min</th>\n",
       "      <td>2500.000000</td>\n",
       "      <td>6500.000000</td>\n",
       "      <td>2.100000</td>\n",
       "      <td>0.000000</td>\n",
       "    </tr>\n",
       "    <tr>\n",
       "      <th>25%</th>\n",
       "      <td>19895.000000</td>\n",
       "      <td>31292.000000</td>\n",
       "      <td>4.300000</td>\n",
       "      <td>100.000000</td>\n",
       "    </tr>\n",
       "    <tr>\n",
       "      <th>50%</th>\n",
       "      <td>34197.000000</td>\n",
       "      <td>41491.500000</td>\n",
       "      <td>4.600000</td>\n",
       "      <td>618.000000</td>\n",
       "    </tr>\n",
       "    <tr>\n",
       "      <th>75%</th>\n",
       "      <td>51415.000000</td>\n",
       "      <td>53984.500000</td>\n",
       "      <td>4.800000</td>\n",
       "      <td>1213.000000</td>\n",
       "    </tr>\n",
       "    <tr>\n",
       "      <th>max</th>\n",
       "      <td>200822.000000</td>\n",
       "      <td>126595.000000</td>\n",
       "      <td>5.000000</td>\n",
       "      <td>28171.000000</td>\n",
       "    </tr>\n",
       "  </tbody>\n",
       "</table>\n",
       "</div>"
      ],
      "text/plain": [
       "             Mileage          Price      Rating       Reviews\n",
       "count     353.000000     380.000000  371.000000    373.000000\n",
       "mean    40201.300283   44212.655263    4.451752   1320.927614\n",
       "std     26201.574277   19865.062600    0.500071   3411.450829\n",
       "min      2500.000000    6500.000000    2.100000      0.000000\n",
       "25%     19895.000000   31292.000000    4.300000    100.000000\n",
       "50%     34197.000000   41491.500000    4.600000    618.000000\n",
       "75%     51415.000000   53984.500000    4.800000   1213.000000\n",
       "max    200822.000000  126595.000000    5.000000  28171.000000"
      ]
     },
     "execution_count": 144,
     "metadata": {},
     "output_type": "execute_result"
    }
   ],
   "source": [
    "#check statistical facts of my data\n",
    "cars.describe()"
   ]
  },
  {
   "cell_type": "markdown",
   "id": "49da0a8e",
   "metadata": {},
   "source": [
    "* The Average price of a car in this data is 44,212 dollars.\n",
    "* The average rating given to a BMW car is 4.45 which is quite on the good side\n"
   ]
  },
  {
   "cell_type": "code",
   "execution_count": 145,
   "id": "5a2f755e",
   "metadata": {},
   "outputs": [
    {
     "data": {
      "text/plain": [
       "Model       0\n",
       "Mileage    27\n",
       "Price       0\n",
       "Dealer      0\n",
       "Rating      9\n",
       "Reviews     7\n",
       "Year        0\n",
       "dtype: int64"
      ]
     },
     "execution_count": 145,
     "metadata": {},
     "output_type": "execute_result"
    }
   ],
   "source": [
    "#checks null values \n",
    "cars.isnull().sum()"
   ]
  },
  {
   "cell_type": "markdown",
   "id": "025e80f5",
   "metadata": {},
   "source": [
    "*The data shows that only 27 cars have no mileage covered with only 9 cars having no rating*"
   ]
  },
  {
   "cell_type": "code",
   "execution_count": 156,
   "id": "365203d9",
   "metadata": {
    "scrolled": true
   },
   "outputs": [
    {
     "name": "stderr",
     "output_type": "stream",
     "text": [
      "C:\\Users\\fatkayd\\AppData\\Local\\Temp\\ipykernel_3268\\2780567963.py:2: FutureWarning: Indexing with multiple keys (implicitly converted to a tuple of keys) will be deprecated, use a list instead.\n",
      "  cars.groupby(['Year'], sort = True)['Reviews', 'Price'].sum().sort_values(by = 'Price', ascending = False).head(5)\n"
     ]
    },
    {
     "data": {
      "text/html": [
       "<div>\n",
       "<style scoped>\n",
       "    .dataframe tbody tr th:only-of-type {\n",
       "        vertical-align: middle;\n",
       "    }\n",
       "\n",
       "    .dataframe tbody tr th {\n",
       "        vertical-align: top;\n",
       "    }\n",
       "\n",
       "    .dataframe thead th {\n",
       "        text-align: right;\n",
       "    }\n",
       "</style>\n",
       "<table border=\"1\" class=\"dataframe\">\n",
       "  <thead>\n",
       "    <tr style=\"text-align: right;\">\n",
       "      <th></th>\n",
       "      <th>Reviews</th>\n",
       "      <th>Price</th>\n",
       "    </tr>\n",
       "    <tr>\n",
       "      <th>Year</th>\n",
       "      <th></th>\n",
       "      <th></th>\n",
       "    </tr>\n",
       "  </thead>\n",
       "  <tbody>\n",
       "    <tr>\n",
       "      <th>2019</th>\n",
       "      <td>135485.0</td>\n",
       "      <td>4570610</td>\n",
       "    </tr>\n",
       "    <tr>\n",
       "      <th>2020</th>\n",
       "      <td>76384.0</td>\n",
       "      <td>2982354</td>\n",
       "    </tr>\n",
       "    <tr>\n",
       "      <th>2021</th>\n",
       "      <td>91825.0</td>\n",
       "      <td>2714941</td>\n",
       "    </tr>\n",
       "    <tr>\n",
       "      <th>2022</th>\n",
       "      <td>53262.0</td>\n",
       "      <td>2000563</td>\n",
       "    </tr>\n",
       "    <tr>\n",
       "      <th>2018</th>\n",
       "      <td>70475.0</td>\n",
       "      <td>1820886</td>\n",
       "    </tr>\n",
       "  </tbody>\n",
       "</table>\n",
       "</div>"
      ],
      "text/plain": [
       "       Reviews    Price\n",
       "Year                   \n",
       "2019  135485.0  4570610\n",
       "2020   76384.0  2982354\n",
       "2021   91825.0  2714941\n",
       "2022   53262.0  2000563\n",
       "2018   70475.0  1820886"
      ]
     },
     "execution_count": 156,
     "metadata": {},
     "output_type": "execute_result"
    }
   ],
   "source": [
    "#this code groups the year by sum of the price of the cars and reviews and shows top 5 years by sum of price\n",
    "cars.groupby(['Year'], sort = True)['Reviews', 'Price'].sum().sort_values(by = 'Price', ascending = False).head(5)"
   ]
  },
  {
   "cell_type": "markdown",
   "id": "3c51599a",
   "metadata": {},
   "source": [
    "* *From the above results, it is clear that the year 2019 had the highest sum of car price*\n",
    "\n",
    "*Is it that there are more cars in the Year 2019 compared to others? The next line of code aims to check this*"
   ]
  },
  {
   "cell_type": "code",
   "execution_count": 157,
   "id": "b4092599",
   "metadata": {
    "scrolled": true
   },
   "outputs": [
    {
     "data": {
      "text/plain": [
       "2019    102\n",
       "2020     60\n",
       "2021     48\n",
       "2018     46\n",
       "2022     27\n",
       "2015     26\n",
       "2017     15\n",
       "2016     11\n",
       "2013     11\n",
       "2012     10\n",
       "2014      7\n",
       "2023      6\n",
       "2011      4\n",
       "2006      3\n",
       "2010      2\n",
       "2009      1\n",
       "1998      1\n",
       "Name: Year, dtype: int64"
      ]
     },
     "execution_count": 157,
     "metadata": {},
     "output_type": "execute_result"
    }
   ],
   "source": [
    "#checks the number of cars per year\n",
    "cars['Year'].value_counts()"
   ]
  },
  {
   "cell_type": "markdown",
   "id": "bb6fa33d",
   "metadata": {},
   "source": [
    "* *the information above shows that the year 2019 has the highest number of cars when compared to other years. However, there is no direct relationship between number of cars and the sum of prices as 2018 has more cars than 2022 but 2022 has the higher sum of the prices of cars*\n",
    "\n",
    "*Now lets look at the year that featured the car with the highest worth relative to price*"
   ]
  },
  {
   "cell_type": "code",
   "execution_count": 161,
   "id": "68b4edcf",
   "metadata": {},
   "outputs": [
    {
     "data": {
      "text/plain": [
       "Year\n",
       "2022    126595\n",
       "2020    112880\n",
       "2021    110995\n",
       "2019     90886\n",
       "2017     83450\n",
       "Name: Price, dtype: int32"
      ]
     },
     "execution_count": 161,
     "metadata": {},
     "output_type": "execute_result"
    }
   ],
   "source": [
    "#this code groups the year by highest worth cars and shows top 5 years by the most worthy car\n",
    "cars.groupby(['Year'], sort = True)['Price'].max().sort_values(ascending = False).head(5)"
   ]
  },
  {
   "cell_type": "markdown",
   "id": "bc5a7616",
   "metadata": {},
   "source": [
    "* *From the data scraped, it is clear that the year 2022 happens to the year that has a BMW car with the highest price tag*\n",
    "\n",
    "*From the website scraped, it shows that only used cars have mileage covered hence, our next line of code aims to look at how the year the car is produced affeect the mileage. I will be looking at the sum of milage for each year and observe the relationship between the two variables*"
   ]
  },
  {
   "cell_type": "code",
   "execution_count": 26,
   "id": "68597369",
   "metadata": {},
   "outputs": [
    {
     "data": {
      "text/html": [
       "<div>\n",
       "<style scoped>\n",
       "    .dataframe tbody tr th:only-of-type {\n",
       "        vertical-align: middle;\n",
       "    }\n",
       "\n",
       "    .dataframe tbody tr th {\n",
       "        vertical-align: top;\n",
       "    }\n",
       "\n",
       "    .dataframe thead th {\n",
       "        text-align: right;\n",
       "    }\n",
       "</style>\n",
       "<table border=\"1\" class=\"dataframe\">\n",
       "  <thead>\n",
       "    <tr style=\"text-align: right;\">\n",
       "      <th></th>\n",
       "      <th>Model</th>\n",
       "      <th>Mileage</th>\n",
       "      <th>Price</th>\n",
       "      <th>Dealer</th>\n",
       "      <th>Rating</th>\n",
       "      <th>Reviews</th>\n",
       "      <th>Year</th>\n",
       "    </tr>\n",
       "  </thead>\n",
       "  <tbody>\n",
       "    <tr>\n",
       "      <th>35</th>\n",
       "      <td>2022 BMW X6 M Base</td>\n",
       "      <td>NaN</td>\n",
       "      <td>126595</td>\n",
       "      <td>BMW of Bellevue</td>\n",
       "      <td>4.5</td>\n",
       "      <td>1581.0</td>\n",
       "      <td>2022</td>\n",
       "    </tr>\n",
       "  </tbody>\n",
       "</table>\n",
       "</div>"
      ],
      "text/plain": [
       "                 Model  Mileage   Price           Dealer  Rating  Reviews  \\\n",
       "35  2022 BMW X6 M Base      NaN  126595  BMW of Bellevue     4.5   1581.0   \n",
       "\n",
       "    Year  \n",
       "35  2022  "
      ]
     },
     "execution_count": 26,
     "metadata": {},
     "output_type": "execute_result"
    }
   ],
   "source": [
    "#getting the car with the highest price\n",
    "cars[cars['Price'] == cars['Price'].max()]"
   ]
  },
  {
   "cell_type": "code",
   "execution_count": 167,
   "id": "9a8af1b4",
   "metadata": {
    "scrolled": true
   },
   "outputs": [
    {
     "name": "stderr",
     "output_type": "stream",
     "text": [
      "C:\\Users\\fatkayd\\AppData\\Local\\Temp\\ipykernel_3268\\2895774343.py:2: FutureWarning: Indexing with multiple keys (implicitly converted to a tuple of keys) will be deprecated, use a list instead.\n",
      "  cars[~(cars['Mileage'].isnull())].groupby(['Year'], sort = True)['Mileage', 'Price'].max().sort_values(by = 'Mileage', ascending = False)\n"
     ]
    },
    {
     "data": {
      "text/html": [
       "<div>\n",
       "<style scoped>\n",
       "    .dataframe tbody tr th:only-of-type {\n",
       "        vertical-align: middle;\n",
       "    }\n",
       "\n",
       "    .dataframe tbody tr th {\n",
       "        vertical-align: top;\n",
       "    }\n",
       "\n",
       "    .dataframe thead th {\n",
       "        text-align: right;\n",
       "    }\n",
       "</style>\n",
       "<table border=\"1\" class=\"dataframe\">\n",
       "  <thead>\n",
       "    <tr style=\"text-align: right;\">\n",
       "      <th></th>\n",
       "      <th>Mileage</th>\n",
       "      <th>Price</th>\n",
       "    </tr>\n",
       "    <tr>\n",
       "      <th>Year</th>\n",
       "      <th></th>\n",
       "      <th></th>\n",
       "    </tr>\n",
       "  </thead>\n",
       "  <tbody>\n",
       "    <tr>\n",
       "      <th>2013</th>\n",
       "      <td>200822.0</td>\n",
       "      <td>21000</td>\n",
       "    </tr>\n",
       "    <tr>\n",
       "      <th>2012</th>\n",
       "      <td>159845.0</td>\n",
       "      <td>35995</td>\n",
       "    </tr>\n",
       "    <tr>\n",
       "      <th>2014</th>\n",
       "      <td>112285.0</td>\n",
       "      <td>24995</td>\n",
       "    </tr>\n",
       "    <tr>\n",
       "      <th>2011</th>\n",
       "      <td>98241.0</td>\n",
       "      <td>29888</td>\n",
       "    </tr>\n",
       "    <tr>\n",
       "      <th>2015</th>\n",
       "      <td>96472.0</td>\n",
       "      <td>48495</td>\n",
       "    </tr>\n",
       "    <tr>\n",
       "      <th>2017</th>\n",
       "      <td>92956.0</td>\n",
       "      <td>83450</td>\n",
       "    </tr>\n",
       "    <tr>\n",
       "      <th>2006</th>\n",
       "      <td>89998.0</td>\n",
       "      <td>21995</td>\n",
       "    </tr>\n",
       "    <tr>\n",
       "      <th>2010</th>\n",
       "      <td>84107.0</td>\n",
       "      <td>12988</td>\n",
       "    </tr>\n",
       "    <tr>\n",
       "      <th>1998</th>\n",
       "      <td>83670.0</td>\n",
       "      <td>14980</td>\n",
       "    </tr>\n",
       "    <tr>\n",
       "      <th>2018</th>\n",
       "      <td>80145.0</td>\n",
       "      <td>73999</td>\n",
       "    </tr>\n",
       "    <tr>\n",
       "      <th>2016</th>\n",
       "      <td>79120.0</td>\n",
       "      <td>48723</td>\n",
       "    </tr>\n",
       "    <tr>\n",
       "      <th>2019</th>\n",
       "      <td>69481.0</td>\n",
       "      <td>90886</td>\n",
       "    </tr>\n",
       "    <tr>\n",
       "      <th>2020</th>\n",
       "      <td>64730.0</td>\n",
       "      <td>112880</td>\n",
       "    </tr>\n",
       "    <tr>\n",
       "      <th>2009</th>\n",
       "      <td>51230.0</td>\n",
       "      <td>24998</td>\n",
       "    </tr>\n",
       "    <tr>\n",
       "      <th>2021</th>\n",
       "      <td>43168.0</td>\n",
       "      <td>110995</td>\n",
       "    </tr>\n",
       "    <tr>\n",
       "      <th>2022</th>\n",
       "      <td>15283.0</td>\n",
       "      <td>82443</td>\n",
       "    </tr>\n",
       "  </tbody>\n",
       "</table>\n",
       "</div>"
      ],
      "text/plain": [
       "       Mileage   Price\n",
       "Year                  \n",
       "2013  200822.0   21000\n",
       "2012  159845.0   35995\n",
       "2014  112285.0   24995\n",
       "2011   98241.0   29888\n",
       "2015   96472.0   48495\n",
       "2017   92956.0   83450\n",
       "2006   89998.0   21995\n",
       "2010   84107.0   12988\n",
       "1998   83670.0   14980\n",
       "2018   80145.0   73999\n",
       "2016   79120.0   48723\n",
       "2019   69481.0   90886\n",
       "2020   64730.0  112880\n",
       "2009   51230.0   24998\n",
       "2021   43168.0  110995\n",
       "2022   15283.0   82443"
      ]
     },
     "execution_count": 167,
     "metadata": {},
     "output_type": "execute_result"
    }
   ],
   "source": [
    "#this code groups the year by sum of the price of the cars and reviews and shows top 5 years by sum of price\n",
    "cars[~(cars['Mileage'].isnull())].groupby(['Year'], sort = True)['Mileage', 'Price'].max().sort_values(by = 'Mileage', ascending = False)"
   ]
  },
  {
   "cell_type": "markdown",
   "id": "9bbe7573",
   "metadata": {},
   "source": [
    "* *Its is clear that for the data available, the maximum miles ,cars produced in the specified years, have gone is not linearly with how far behind the year is*\n",
    "\n",
    "*The next line of code checks the correlation coefficient of each variable*"
   ]
  },
  {
   "cell_type": "code",
   "execution_count": 172,
   "id": "ef5865d2",
   "metadata": {
    "scrolled": true
   },
   "outputs": [
    {
     "data": {
      "text/html": [
       "<div>\n",
       "<style scoped>\n",
       "    .dataframe tbody tr th:only-of-type {\n",
       "        vertical-align: middle;\n",
       "    }\n",
       "\n",
       "    .dataframe tbody tr th {\n",
       "        vertical-align: top;\n",
       "    }\n",
       "\n",
       "    .dataframe thead th {\n",
       "        text-align: right;\n",
       "    }\n",
       "</style>\n",
       "<table border=\"1\" class=\"dataframe\">\n",
       "  <thead>\n",
       "    <tr style=\"text-align: right;\">\n",
       "      <th></th>\n",
       "      <th>Mileage</th>\n",
       "      <th>Price</th>\n",
       "      <th>Rating</th>\n",
       "      <th>Reviews</th>\n",
       "    </tr>\n",
       "  </thead>\n",
       "  <tbody>\n",
       "    <tr>\n",
       "      <th>Mileage</th>\n",
       "      <td>1.000000</td>\n",
       "      <td>-0.598900</td>\n",
       "      <td>-0.087289</td>\n",
       "      <td>-0.105508</td>\n",
       "    </tr>\n",
       "    <tr>\n",
       "      <th>Price</th>\n",
       "      <td>-0.598900</td>\n",
       "      <td>1.000000</td>\n",
       "      <td>0.167138</td>\n",
       "      <td>0.034319</td>\n",
       "    </tr>\n",
       "    <tr>\n",
       "      <th>Rating</th>\n",
       "      <td>-0.087289</td>\n",
       "      <td>0.167138</td>\n",
       "      <td>1.000000</td>\n",
       "      <td>0.211664</td>\n",
       "    </tr>\n",
       "    <tr>\n",
       "      <th>Reviews</th>\n",
       "      <td>-0.105508</td>\n",
       "      <td>0.034319</td>\n",
       "      <td>0.211664</td>\n",
       "      <td>1.000000</td>\n",
       "    </tr>\n",
       "  </tbody>\n",
       "</table>\n",
       "</div>"
      ],
      "text/plain": [
       "          Mileage     Price    Rating   Reviews\n",
       "Mileage  1.000000 -0.598900 -0.087289 -0.105508\n",
       "Price   -0.598900  1.000000  0.167138  0.034319\n",
       "Rating  -0.087289  0.167138  1.000000  0.211664\n",
       "Reviews -0.105508  0.034319  0.211664  1.000000"
      ]
     },
     "execution_count": 172,
     "metadata": {},
     "output_type": "execute_result"
    }
   ],
   "source": [
    "cars.corr()"
   ]
  },
  {
   "cell_type": "code",
   "execution_count": 211,
   "id": "259a0403",
   "metadata": {},
   "outputs": [
    {
     "data": {
      "image/png": "[encoded data removed]",
      "text/plain": [
       "<Figure size 648x576 with 2 Axes>"
      ]
     },
     "metadata": {
      "needs_background": "light"
     },
     "output_type": "display_data"
    }
   ],
   "source": [
    "#creates a subset of the master dataframe for plotting the correlation heat map\n",
    "df_corr = cars[['Mileage', 'Price', \n",
    "                               'Rating']]\n",
    "fig = plt.subplots(figsize = (9,8))\n",
    "correlation = df_corr.corr()#finds the correlation\n",
    "\n",
    "#creates an heatmap to show the correlation between the variables selected\n",
    "sb.heatmap(correlation, \n",
    "            xticklabels=correlation.columns.values,\n",
    "            yticklabels=correlation.columns.values,\n",
    "            ax=None,\n",
    "            linewidth= 0.5);"
   ]
  },
  {
   "cell_type": "markdown",
   "id": "fc080bf5",
   "metadata": {},
   "source": [
    "*A quick look at the moderately negative correlation between `Price` and `Mileage`. This implies that for high prices, we have moderately low Mileage*"
   ]
  },
  {
   "cell_type": "markdown",
   "id": "9d11e5b1",
   "metadata": {},
   "source": [
    "## Visualizations"
   ]
  },
  {
   "cell_type": "code",
   "execution_count": 6,
   "id": "7dd7e436",
   "metadata": {},
   "outputs": [],
   "source": [
    "import seaborn as sb\n",
    "import matplotlib.pyplot as plt\n",
    "%matplotlib inline"
   ]
  },
  {
   "cell_type": "code",
   "execution_count": 17,
   "id": "5cfcd412",
   "metadata": {},
   "outputs": [
    {
     "data": {
      "image/png": "[encoded data removed]",
      "text/plain": [
       "<Figure size 432x288 with 1 Axes>"
      ]
     },
     "metadata": {
      "needs_background": "light"
     },
     "output_type": "display_data"
    }
   ],
   "source": [
    "#this plots a density curve distribution of the miles covered by cars\n",
    "sb.distplot(cars['Mileage'], kde = False)\n",
    "plt.title('Distribution of Miles Travelled by Used Cars across diff. BMW cars');\n",
    "ticks = [0,25e3, 50e3, 75e3, 100e3, 125e3 ,150e3, 175e3, 200e3];\n",
    "labels = ['0','25k', '50k', '75k', '100k', '125k','150k', '175k', '200k'];\n",
    "\n",
    "plt.xticks(ticks, labels);\n",
    "plt.xlim(0, 205e3);"
   ]
  },
  {
   "cell_type": "markdown",
   "id": "56d66130",
   "metadata": {},
   "source": [
    "*Most BMW cars have mileage lesser than 25000 miles with the distribution been skewed to the right*\n",
    "\n",
    "*Next, i look at the distribution of reatings and reviews*"
   ]
  },
  {
   "cell_type": "code",
   "execution_count": 18,
   "id": "3d3ee225",
   "metadata": {
    "scrolled": true
   },
   "outputs": [
    {
     "data": {
      "image/png": "[encoded data removed]",
      "text/plain": [
       "<Figure size 432x288 with 1 Axes>"
      ]
     },
     "metadata": {
      "needs_background": "light"
     },
     "output_type": "display_data"
    }
   ],
   "source": [
    "#distribution of ratings of BMW cars\n",
    "sb.distplot(cars['Rating'], kde = False)\n",
    "plt.title('Distribution of Rating given to the Cars');"
   ]
  },
  {
   "cell_type": "markdown",
   "id": "6fae18af",
   "metadata": {},
   "source": [
    "*Notice how most of the cars from the data have very good ratings*"
   ]
  },
  {
   "cell_type": "code",
   "execution_count": 186,
   "id": "9d150303",
   "metadata": {},
   "outputs": [
    {
     "data": {
      "image/png": "[encoded data removed]",
      "text/plain": [
       "<Figure size 432x288 with 1 Axes>"
      ]
     },
     "metadata": {
      "needs_background": "light"
     },
     "output_type": "display_data"
    }
   ],
   "source": [
    "sb.distplot(cars['Reviews'], kde = False)\n",
    "plt.title('Distribution of Revies for each Cars');"
   ]
  },
  {
   "cell_type": "code",
   "execution_count": 196,
   "id": "4ab8c0c8",
   "metadata": {},
   "outputs": [],
   "source": [
    "#defines a function that plots an histogram\n",
    "def plot_func(column, title, binsize):#title is the proposed \n",
    "                                    #title of the chart and binsize specifies the size of the bins in the column\n",
    "    bins = np.arange(cars[column].min(), cars[column].max()+binsize, binsize)\n",
    "\n",
    "    cars[column].plot(kind = 'hist', figsize = (7,5), color = base_color, bins = bins);#plots a bar chart \n",
    "    \n",
    "    plt.title(label = title, fontsize = 16);#prints the title \n",
    "    \n",
    "    "
   ]
  },
  {
   "cell_type": "code",
   "execution_count": 197,
   "id": "b5e69295",
   "metadata": {},
   "outputs": [
    {
     "data": {
      "image/png": "[encoded data removed]",
      "text/plain": [
       "<Figure size 504x360 with 1 Axes>"
      ]
     },
     "metadata": {
      "needs_background": "light"
     },
     "output_type": "display_data"
    }
   ],
   "source": [
    "#called the function to plot a histogram for price\n",
    "plot_func('Price', 'Price Distr. across BMW cars', 1000)"
   ]
  },
  {
   "cell_type": "code",
   "execution_count": 195,
   "id": "7046de98",
   "metadata": {
    "scrolled": false
   },
   "outputs": [
    {
     "data": {
      "image/png": "[encoded data removed]",
      "text/plain": [
       "<Figure size 1008x432 with 1 Axes>"
      ]
     },
     "metadata": {
      "needs_background": "light"
     },
     "output_type": "display_data"
    }
   ],
   "source": [
    "plt.figure(figsize = (14, 6))\n",
    "\n",
    "#creates a bar chart reping the different number of cars across the years\n",
    "order = cars['Year'].value_counts().index\n",
    "\n",
    "base_color = sb.color_palette()[0]#set color to uniform\n",
    "sb.countplot(data = cars, x = 'Year', color = base_color, order = order)\n",
    "plt.title('Distribution of Cars across diff. product year');\n",
    "\n",
    "plt.ylabel(\"Number of Cars\");"
   ]
  },
  {
   "cell_type": "markdown",
   "id": "d8156111",
   "metadata": {},
   "source": [
    "*Notice how 2019 tops the year with the highest number of cars as previously stated*"
   ]
  },
  {
   "cell_type": "markdown",
   "id": "ca4dcc48",
   "metadata": {},
   "source": [
    "## Bivariate Exploration"
   ]
  },
  {
   "cell_type": "code",
   "execution_count": 202,
   "id": "84964e3c",
   "metadata": {},
   "outputs": [],
   "source": [
    "# the different categories of loan status available\n",
    "statuses = ['2019','2020','2021','2018','2022','2015','2017','2016','2013','2012','2014','2023','2011','2006','2010','2009','1998']\n",
    "\n",
    "# returns the ordered version\n",
    "statuses = pd.api.types.CategoricalDtype(ordered=True, categories=statuses)\n",
    "\n",
    "# Use pandas.astype() to convert the \"LoanStatus\" column from a plain object type into an ordered categorical type \n",
    "cars['Year'] = cars['Year'].astype(statuses);"
   ]
  },
  {
   "cell_type": "code",
   "execution_count": 203,
   "id": "1eaa18bc",
   "metadata": {},
   "outputs": [
    {
     "data": {
      "image/png": "[encoded data removed]",
      "text/plain": [
       "<Figure size 1080x432 with 1 Axes>"
      ]
     },
     "metadata": {
      "needs_background": "light"
     },
     "output_type": "display_data"
    }
   ],
   "source": [
    "# Plotting a boxplot and using subplots \n",
    "plt.figure(figsize = [15, 6]) \n",
    "\n",
    "sb.boxplot(data=cars, x='Year', y='Price', \n",
    "              color = sb.color_palette()[0])\n",
    "plt.title('Year by Price distr.');\n"
   ]
  },
  {
   "cell_type": "markdown",
   "id": "149e8132",
   "metadata": {},
   "source": [
    "*Notice how the median for year between 2018 and 2022 have higher median than all other years except the year 2023 which stands out*"
   ]
  },
  {
   "cell_type": "code",
   "execution_count": 19,
   "id": "d1fbdddd",
   "metadata": {},
   "outputs": [
    {
     "data": {
      "image/png": "[encoded data removed]",
      "text/plain": [
       "<Figure size 1080x432 with 1 Axes>"
      ]
     },
     "metadata": {
      "needs_background": "light"
     },
     "output_type": "display_data"
    }
   ],
   "source": [
    "plt.figure(figsize = [15, 6]) \n",
    "\n",
    "#line of code to \n",
    "cars.groupby(['Year'])['Price'].mean().sort_values(ascending = True).plot(kind = 'bar');\n",
    "plt.title('Price Avg. across the diff. Years');\n",
    "plt.ylabel('Avg. Price');"
   ]
  },
  {
   "cell_type": "markdown",
   "id": "830a978e",
   "metadata": {},
   "source": [
    "*Here 2022 and 2023 stands out with high average prices when compared to other years*"
   ]
  },
  {
   "cell_type": "code",
   "execution_count": 20,
   "id": "ddb92cdd",
   "metadata": {},
   "outputs": [
    {
     "data": {
      "image/png": "[encoded data removed]",
      "text/plain": [
       "<Figure size 1080x432 with 1 Axes>"
      ]
     },
     "metadata": {
      "needs_background": "light"
     },
     "output_type": "display_data"
    }
   ],
   "source": [
    "#line of code to plot a violin plot \n",
    "plt.figure(figsize = [15, 6]) \n",
    "\n",
    "#line of code to \n",
    "cars.groupby(['Year'])['Mileage'].mean().sort_values(ascending = True).plot(kind = 'bar');\n",
    "plt.title('Mileage Avg. across the diff. Years');\n",
    "plt.ylabel('Avg. Miles covered');"
   ]
  },
  {
   "cell_type": "markdown",
   "id": "4dcf11b3",
   "metadata": {},
   "source": [
    "*Notica how no mileage were recorded for year as 2023 as there were no used cars in that year yet. 2013 has the cars with the high mileage. It is however clear that cars produced in years far behind have an higher average mileage when compred to the most recent years*"
   ]
  },
  {
   "cell_type": "markdown",
   "id": "1840cf3d",
   "metadata": {},
   "source": [
    "# Conclusions\n",
    "\n"
   ]
  },
  {
   "cell_type": "markdown",
   "id": "b3fffeff",
   "metadata": {},
   "source": [
    "> *My main interest of investigation was to find how the price and mileage is related with the year of production of the cars. I noticed that most of the cars produced in the year between 2017 and 2023 have higher average prices of cars. Number cars per year however does not affect the distribution as 2019 has more cars than 2022 but  2022 has the higher average as cars produce in this year seems to have high prices compared to 2019.It also became clear that cars produced in years far behind have an higher average mileage when compred to the most recent years*\n",
    "\n",
    "# Limitations\n",
    ">* the data is small to fully depend on its results\n",
    "\n",
    ">* Any kind of hypothesis testing have not been performed, the basis of this analysis are historical data. Hence, any suggestion for future strategies should be based on a further analysis."
   ]
  },
  {
   "cell_type": "code",
   "execution_count": null,
   "id": "c17b8434",
   "metadata": {},
   "outputs": [],
   "source": []
  },
  {
   "cell_type": "code",
   "execution_count": null,
   "id": "7ba2e0ae",
   "metadata": {},
   "outputs": [],
   "source": []
  }
 ],
 "metadata": {
  "kernelspec": {
   "display_name": "Python 3 (ipykernel)",
   "language": "python",
   "name": "python3"
  },
  "language_info": {
   "codemirror_mode": {
    "name": "ipython",
    "version": 3
   },
   "file_extension": ".py",
   "mimetype": "text/x-python",
   "name": "python",
   "nbconvert_exporter": "python",
   "pygments_lexer": "ipython3",
   "version": "3.9.12"
  }
 },
 "nbformat": 4,
 "nbformat_minor": 5
}
